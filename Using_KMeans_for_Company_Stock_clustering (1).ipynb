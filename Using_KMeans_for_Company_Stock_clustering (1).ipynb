{
  "nbformat": 4,
  "nbformat_minor": 0,
  "metadata": {
    "colab": {
      "provenance": []
    },
    "kernelspec": {
      "name": "python3",
      "display_name": "Python 3"
    },
    "language_info": {
      "name": "python"
    }
  },
  "cells": [
    {
      "cell_type": "markdown",
      "source": [
        "## **Question 2 :** Extract the stock market data from Yahoo finance for a set of any 15 companies of four different\n",
        "sectors during 01.04.2017 to 31.09.2021. Make use of the following attributes on the data:\n",
        "* Highest price of the day\n",
        "* Minimum price of the day\n",
        "* Opening price of the day\n",
        "* Closing Price of the day\n",
        "\n",
        "Take the average of these four attributes as an average movement of the day. Now apply k-Means\n",
        "clustering to cluster the chosen 15 companies as per their respective sectors.\n",
        "\n",
        "\n",
        "Solution by : Amitabh Suman\n",
        "\n"
      ],
      "metadata": {
        "id": "-PuHCCfuskR2"
      }
    },
    {
      "cell_type": "markdown",
      "source": [
        "Uncomment below lines in case these installs are not available in the Google Collab"
      ],
      "metadata": {
        "id": "pU-cY3bkFv-1"
      }
    },
    {
      "cell_type": "code",
      "execution_count": 1,
      "metadata": {
        "id": "B32UkwSQTmBh"
      },
      "outputs": [],
      "source": [
        "# pip install yfinance\n",
        "# pip install yahoo_fin"
      ]
    },
    {
      "cell_type": "code",
      "source": [
        "import yfinance as yf"
      ],
      "metadata": {
        "id": "x72l9M1OTwHv"
      },
      "execution_count": 2,
      "outputs": []
    },
    {
      "cell_type": "code",
      "source": [
        "GetFacebookInformation = yf.Ticker(\"GOOGL\")"
      ],
      "metadata": {
        "id": "BanQitkTTwKC"
      },
      "execution_count": 3,
      "outputs": []
    },
    {
      "cell_type": "code",
      "source": [
        "# Let us  get historical stock prices for Facebook\n",
        "# covering the past few years.\n",
        "# max->maximum number of daily prices available\n",
        "# for Facebook.\n",
        "# Valid options are 1d, 5d, 1mo, 3mo, 6mo, 1y, 2y,\n",
        "# 5y, 10y and ytd.\n",
        "print(GetFacebookInformation.history(period=\"max\"))"
      ],
      "metadata": {
        "colab": {
          "base_uri": "https://localhost:8080/"
        },
        "id": "GMtns-YCTwMO",
        "outputId": "4e74067c-3917-43f1-aeea-8e7be70d368d"
      },
      "execution_count": 4,
      "outputs": [
        {
          "output_type": "stream",
          "name": "stdout",
          "text": [
            "                                Open       High        Low      Close  \\\n",
            "Date                                                                    \n",
            "2004-08-19 00:00:00-04:00   2.502503   2.604104   2.401401   2.511011   \n",
            "2004-08-20 00:00:00-04:00   2.527778   2.729730   2.515015   2.710460   \n",
            "2004-08-23 00:00:00-04:00   2.771522   2.839840   2.728979   2.737738   \n",
            "2004-08-24 00:00:00-04:00   2.783784   2.792793   2.591842   2.624374   \n",
            "2004-08-25 00:00:00-04:00   2.626627   2.702703   2.599600   2.652653   \n",
            "...                              ...        ...        ...        ...   \n",
            "2023-01-10 00:00:00-05:00  85.980003  88.669998  85.830002  88.419998   \n",
            "2023-01-11 00:00:00-05:00  89.180000  91.599998  89.010002  91.519997   \n",
            "2023-01-12 00:00:00-05:00  91.480003  91.870003  89.750000  91.129997   \n",
            "2023-01-13 00:00:00-05:00  90.849998  92.190002  90.129997  92.120003   \n",
            "2023-01-17 00:00:00-05:00  92.059998  92.250000  90.050003  91.290001   \n",
            "\n",
            "                              Volume  Dividends  Stock Splits  \n",
            "Date                                                           \n",
            "2004-08-19 00:00:00-04:00  893181924        0.0           0.0  \n",
            "2004-08-20 00:00:00-04:00  456686856        0.0           0.0  \n",
            "2004-08-23 00:00:00-04:00  365122512        0.0           0.0  \n",
            "2004-08-24 00:00:00-04:00  304946748        0.0           0.0  \n",
            "2004-08-25 00:00:00-04:00  183772044        0.0           0.0  \n",
            "...                              ...        ...           ...  \n",
            "2023-01-10 00:00:00-05:00   30467800        0.0           0.0  \n",
            "2023-01-11 00:00:00-05:00   26862000        0.0           0.0  \n",
            "2023-01-12 00:00:00-05:00   30258100        0.0           0.0  \n",
            "2023-01-13 00:00:00-05:00   26309900        0.0           0.0  \n",
            "2023-01-17 00:00:00-05:00   32561200        0.0           0.0  \n",
            "\n",
            "[4635 rows x 7 columns]\n"
          ]
        }
      ]
    },
    {
      "cell_type": "code",
      "source": [
        "GetFacebookInformation = yf.Ticker(\"GOOGL\")\n",
        " \n",
        "# Valid options are 1d, 5d, 1mo, 3mo, 6mo, 1y,\n",
        "# 2y, 5y, 10y and ytd.\n",
        "print(GetFacebookInformation.history(period=\"6mo\"))"
      ],
      "metadata": {
        "colab": {
          "base_uri": "https://localhost:8080/"
        },
        "id": "VXH9F-DMT-Rk",
        "outputId": "e08d81c0-294d-4ba9-9d50-7ecfad954585"
      },
      "execution_count": 5,
      "outputs": [
        {
          "output_type": "stream",
          "name": "stdout",
          "text": [
            "                                 Open        High         Low       Close  \\\n",
            "Date                                                                        \n",
            "2022-07-18 00:00:00-04:00  112.639999  113.680000  108.370003  109.029999   \n",
            "2022-07-19 00:00:00-04:00  110.849998  114.019997  109.559998  113.809998   \n",
            "2022-07-20 00:00:00-04:00  113.169998  115.400002  112.480003  113.900002   \n",
            "2022-07-21 00:00:00-04:00  114.279999  114.550003  111.110001  114.339996   \n",
            "2022-07-22 00:00:00-04:00  111.000000  112.339996  106.500000  107.900002   \n",
            "...                               ...         ...         ...         ...   \n",
            "2023-01-10 00:00:00-05:00   85.980003   88.669998   85.830002   88.419998   \n",
            "2023-01-11 00:00:00-05:00   89.180000   91.599998   89.010002   91.519997   \n",
            "2023-01-12 00:00:00-05:00   91.480003   91.870003   89.750000   91.129997   \n",
            "2023-01-13 00:00:00-05:00   90.849998   92.190002   90.129997   92.120003   \n",
            "2023-01-17 00:00:00-05:00   92.059998   92.250000   90.050003   91.290001   \n",
            "\n",
            "                             Volume  Dividends  Stock Splits  \n",
            "Date                                                          \n",
            "2022-07-18 00:00:00-04:00  43164600        0.0          20.0  \n",
            "2022-07-19 00:00:00-04:00  36530900        0.0           0.0  \n",
            "2022-07-20 00:00:00-04:00  35600400        0.0           0.0  \n",
            "2022-07-21 00:00:00-04:00  32676200        0.0           0.0  \n",
            "2022-07-22 00:00:00-04:00  48901200        0.0           0.0  \n",
            "...                             ...        ...           ...  \n",
            "2023-01-10 00:00:00-05:00  30467800        0.0           0.0  \n",
            "2023-01-11 00:00:00-05:00  26862000        0.0           0.0  \n",
            "2023-01-12 00:00:00-05:00  30258100        0.0           0.0  \n",
            "2023-01-13 00:00:00-05:00  26309900        0.0           0.0  \n",
            "2023-01-17 00:00:00-05:00  32561200        0.0           0.0  \n",
            "\n",
            "[127 rows x 7 columns]\n"
          ]
        }
      ]
    },
    {
      "cell_type": "code",
      "source": [
        "import pandas as pd\n",
        "import numpy as np"
      ],
      "metadata": {
        "id": "oBGIP45qbxMu"
      },
      "execution_count": 6,
      "outputs": []
    },
    {
      "cell_type": "code",
      "source": [
        "single_array = np.zeros((1132, 1))\n",
        "single_array"
      ],
      "metadata": {
        "colab": {
          "base_uri": "https://localhost:8080/"
        },
        "id": "dfIxkQOrdZIo",
        "outputId": "5528ab3e-4554-4d8d-ea5a-13535344b39c"
      },
      "execution_count": 7,
      "outputs": [
        {
          "output_type": "execute_result",
          "data": {
            "text/plain": [
              "array([[0.],\n",
              "       [0.],\n",
              "       [0.],\n",
              "       ...,\n",
              "       [0.],\n",
              "       [0.],\n",
              "       [0.]])"
            ]
          },
          "metadata": {},
          "execution_count": 7
        }
      ]
    },
    {
      "cell_type": "code",
      "source": [],
      "metadata": {
        "id": "lDw5O5vvdZKv"
      },
      "execution_count": 7,
      "outputs": []
    },
    {
      "cell_type": "code",
      "source": [
        "import datetime\n",
        " \n",
        "# startDate , as per our convenience we can modify\n",
        "startDate = datetime.datetime(2017, 4, 1)\n",
        " \n",
        "# endDate , as per our convenience we can modify\n",
        "endDate = datetime.datetime(2021, 9, 30)\n",
        "GetFacebookInformation = yf.Ticker(\"GOOGL\")\n",
        "historic_data = GetFacebookInformation.history(start=startDate, end=endDate)\n",
        "historic_data[\"symbol\"] = \"GOOGL\"\n",
        "# pass the parameters as the taken dates for start and end\n",
        "print(historic_data)"
      ],
      "metadata": {
        "colab": {
          "base_uri": "https://localhost:8080/"
        },
        "id": "TN7u7-jsT-T4",
        "outputId": "8f5106da-919b-4a7f-938e-6efaca63c170"
      },
      "execution_count": 8,
      "outputs": [
        {
          "output_type": "stream",
          "name": "stdout",
          "text": [
            "                                 Open        High         Low       Close  \\\n",
            "Date                                                                        \n",
            "2017-04-03 00:00:00-04:00   42.437500   42.950001   42.376499   42.837502   \n",
            "2017-04-04 00:00:00-04:00   42.400002   42.650002   42.375500   42.628502   \n",
            "2017-04-05 00:00:00-04:00   42.735500   43.029499   42.375999   42.445499   \n",
            "2017-04-06 00:00:00-04:00   42.474998   42.679501   42.200001   42.255001   \n",
            "2017-04-07 00:00:00-04:00   42.250000   42.293999   41.865002   42.105000   \n",
            "...                               ...         ...         ...         ...   \n",
            "2021-09-23 00:00:00-04:00  140.987503  141.696503  140.401505  141.216003   \n",
            "2021-09-24 00:00:00-04:00  140.538498  142.330505  140.240997  142.214996   \n",
            "2021-09-27 00:00:00-04:00  140.804504  141.938507  140.067505  141.072006   \n",
            "2021-09-28 00:00:00-04:00  138.654999  139.096497  135.360001  135.830002   \n",
            "2021-09-29 00:00:00-04:00  136.979996  137.151001  133.865005  134.353500   \n",
            "\n",
            "                             Volume  Dividends  Stock Splits symbol  \n",
            "Date                                                                 \n",
            "2017-04-03 00:00:00-04:00  39388000        0.0           0.0  GOOGL  \n",
            "2017-04-04 00:00:00-04:00  26970000        0.0           0.0  GOOGL  \n",
            "2017-04-05 00:00:00-04:00  37104000        0.0           0.0  GOOGL  \n",
            "2017-04-06 00:00:00-04:00  30672000        0.0           0.0  GOOGL  \n",
            "2017-04-07 00:00:00-04:00  22232000        0.0           0.0  GOOGL  \n",
            "...                             ...        ...           ...    ...  \n",
            "2021-09-23 00:00:00-04:00  20952000        0.0           0.0  GOOGL  \n",
            "2021-09-24 00:00:00-04:00  22984000        0.0           0.0  GOOGL  \n",
            "2021-09-27 00:00:00-04:00  21882000        0.0           0.0  GOOGL  \n",
            "2021-09-28 00:00:00-04:00  45772000        0.0           0.0  GOOGL  \n",
            "2021-09-29 00:00:00-04:00  30848000        0.0           0.0  GOOGL  \n",
            "\n",
            "[1132 rows x 8 columns]\n"
          ]
        }
      ]
    },
    {
      "cell_type": "code",
      "source": [
        "historic_data.head()"
      ],
      "metadata": {
        "colab": {
          "base_uri": "https://localhost:8080/",
          "height": 237
        },
        "id": "BZpTNzXSbjxQ",
        "outputId": "23f8611c-18d9-4350-9f2d-4b476798e86a"
      },
      "execution_count": 9,
      "outputs": [
        {
          "output_type": "execute_result",
          "data": {
            "text/plain": [
              "                                Open       High        Low      Close  \\\n",
              "Date                                                                    \n",
              "2017-04-03 00:00:00-04:00  42.437500  42.950001  42.376499  42.837502   \n",
              "2017-04-04 00:00:00-04:00  42.400002  42.650002  42.375500  42.628502   \n",
              "2017-04-05 00:00:00-04:00  42.735500  43.029499  42.375999  42.445499   \n",
              "2017-04-06 00:00:00-04:00  42.474998  42.679501  42.200001  42.255001   \n",
              "2017-04-07 00:00:00-04:00  42.250000  42.293999  41.865002  42.105000   \n",
              "\n",
              "                             Volume  Dividends  Stock Splits symbol  \n",
              "Date                                                                 \n",
              "2017-04-03 00:00:00-04:00  39388000        0.0           0.0  GOOGL  \n",
              "2017-04-04 00:00:00-04:00  26970000        0.0           0.0  GOOGL  \n",
              "2017-04-05 00:00:00-04:00  37104000        0.0           0.0  GOOGL  \n",
              "2017-04-06 00:00:00-04:00  30672000        0.0           0.0  GOOGL  \n",
              "2017-04-07 00:00:00-04:00  22232000        0.0           0.0  GOOGL  "
            ],
            "text/html": [
              "\n",
              "  <div id=\"df-ad1e5731-ad34-4902-ab6d-250d48aeb674\">\n",
              "    <div class=\"colab-df-container\">\n",
              "      <div>\n",
              "<style scoped>\n",
              "    .dataframe tbody tr th:only-of-type {\n",
              "        vertical-align: middle;\n",
              "    }\n",
              "\n",
              "    .dataframe tbody tr th {\n",
              "        vertical-align: top;\n",
              "    }\n",
              "\n",
              "    .dataframe thead th {\n",
              "        text-align: right;\n",
              "    }\n",
              "</style>\n",
              "<table border=\"1\" class=\"dataframe\">\n",
              "  <thead>\n",
              "    <tr style=\"text-align: right;\">\n",
              "      <th></th>\n",
              "      <th>Open</th>\n",
              "      <th>High</th>\n",
              "      <th>Low</th>\n",
              "      <th>Close</th>\n",
              "      <th>Volume</th>\n",
              "      <th>Dividends</th>\n",
              "      <th>Stock Splits</th>\n",
              "      <th>symbol</th>\n",
              "    </tr>\n",
              "    <tr>\n",
              "      <th>Date</th>\n",
              "      <th></th>\n",
              "      <th></th>\n",
              "      <th></th>\n",
              "      <th></th>\n",
              "      <th></th>\n",
              "      <th></th>\n",
              "      <th></th>\n",
              "      <th></th>\n",
              "    </tr>\n",
              "  </thead>\n",
              "  <tbody>\n",
              "    <tr>\n",
              "      <th>2017-04-03 00:00:00-04:00</th>\n",
              "      <td>42.437500</td>\n",
              "      <td>42.950001</td>\n",
              "      <td>42.376499</td>\n",
              "      <td>42.837502</td>\n",
              "      <td>39388000</td>\n",
              "      <td>0.0</td>\n",
              "      <td>0.0</td>\n",
              "      <td>GOOGL</td>\n",
              "    </tr>\n",
              "    <tr>\n",
              "      <th>2017-04-04 00:00:00-04:00</th>\n",
              "      <td>42.400002</td>\n",
              "      <td>42.650002</td>\n",
              "      <td>42.375500</td>\n",
              "      <td>42.628502</td>\n",
              "      <td>26970000</td>\n",
              "      <td>0.0</td>\n",
              "      <td>0.0</td>\n",
              "      <td>GOOGL</td>\n",
              "    </tr>\n",
              "    <tr>\n",
              "      <th>2017-04-05 00:00:00-04:00</th>\n",
              "      <td>42.735500</td>\n",
              "      <td>43.029499</td>\n",
              "      <td>42.375999</td>\n",
              "      <td>42.445499</td>\n",
              "      <td>37104000</td>\n",
              "      <td>0.0</td>\n",
              "      <td>0.0</td>\n",
              "      <td>GOOGL</td>\n",
              "    </tr>\n",
              "    <tr>\n",
              "      <th>2017-04-06 00:00:00-04:00</th>\n",
              "      <td>42.474998</td>\n",
              "      <td>42.679501</td>\n",
              "      <td>42.200001</td>\n",
              "      <td>42.255001</td>\n",
              "      <td>30672000</td>\n",
              "      <td>0.0</td>\n",
              "      <td>0.0</td>\n",
              "      <td>GOOGL</td>\n",
              "    </tr>\n",
              "    <tr>\n",
              "      <th>2017-04-07 00:00:00-04:00</th>\n",
              "      <td>42.250000</td>\n",
              "      <td>42.293999</td>\n",
              "      <td>41.865002</td>\n",
              "      <td>42.105000</td>\n",
              "      <td>22232000</td>\n",
              "      <td>0.0</td>\n",
              "      <td>0.0</td>\n",
              "      <td>GOOGL</td>\n",
              "    </tr>\n",
              "  </tbody>\n",
              "</table>\n",
              "</div>\n",
              "      <button class=\"colab-df-convert\" onclick=\"convertToInteractive('df-ad1e5731-ad34-4902-ab6d-250d48aeb674')\"\n",
              "              title=\"Convert this dataframe to an interactive table.\"\n",
              "              style=\"display:none;\">\n",
              "        \n",
              "  <svg xmlns=\"http://www.w3.org/2000/svg\" height=\"24px\"viewBox=\"0 0 24 24\"\n",
              "       width=\"24px\">\n",
              "    <path d=\"M0 0h24v24H0V0z\" fill=\"none\"/>\n",
              "    <path d=\"M18.56 5.44l.94 2.06.94-2.06 2.06-.94-2.06-.94-.94-2.06-.94 2.06-2.06.94zm-11 1L8.5 8.5l.94-2.06 2.06-.94-2.06-.94L8.5 2.5l-.94 2.06-2.06.94zm10 10l.94 2.06.94-2.06 2.06-.94-2.06-.94-.94-2.06-.94 2.06-2.06.94z\"/><path d=\"M17.41 7.96l-1.37-1.37c-.4-.4-.92-.59-1.43-.59-.52 0-1.04.2-1.43.59L10.3 9.45l-7.72 7.72c-.78.78-.78 2.05 0 2.83L4 21.41c.39.39.9.59 1.41.59.51 0 1.02-.2 1.41-.59l7.78-7.78 2.81-2.81c.8-.78.8-2.07 0-2.86zM5.41 20L4 18.59l7.72-7.72 1.47 1.35L5.41 20z\"/>\n",
              "  </svg>\n",
              "      </button>\n",
              "      \n",
              "  <style>\n",
              "    .colab-df-container {\n",
              "      display:flex;\n",
              "      flex-wrap:wrap;\n",
              "      gap: 12px;\n",
              "    }\n",
              "\n",
              "    .colab-df-convert {\n",
              "      background-color: #E8F0FE;\n",
              "      border: none;\n",
              "      border-radius: 50%;\n",
              "      cursor: pointer;\n",
              "      display: none;\n",
              "      fill: #1967D2;\n",
              "      height: 32px;\n",
              "      padding: 0 0 0 0;\n",
              "      width: 32px;\n",
              "    }\n",
              "\n",
              "    .colab-df-convert:hover {\n",
              "      background-color: #E2EBFA;\n",
              "      box-shadow: 0px 1px 2px rgba(60, 64, 67, 0.3), 0px 1px 3px 1px rgba(60, 64, 67, 0.15);\n",
              "      fill: #174EA6;\n",
              "    }\n",
              "\n",
              "    [theme=dark] .colab-df-convert {\n",
              "      background-color: #3B4455;\n",
              "      fill: #D2E3FC;\n",
              "    }\n",
              "\n",
              "    [theme=dark] .colab-df-convert:hover {\n",
              "      background-color: #434B5C;\n",
              "      box-shadow: 0px 1px 3px 1px rgba(0, 0, 0, 0.15);\n",
              "      filter: drop-shadow(0px 1px 2px rgba(0, 0, 0, 0.3));\n",
              "      fill: #FFFFFF;\n",
              "    }\n",
              "  </style>\n",
              "\n",
              "      <script>\n",
              "        const buttonEl =\n",
              "          document.querySelector('#df-ad1e5731-ad34-4902-ab6d-250d48aeb674 button.colab-df-convert');\n",
              "        buttonEl.style.display =\n",
              "          google.colab.kernel.accessAllowed ? 'block' : 'none';\n",
              "\n",
              "        async function convertToInteractive(key) {\n",
              "          const element = document.querySelector('#df-ad1e5731-ad34-4902-ab6d-250d48aeb674');\n",
              "          const dataTable =\n",
              "            await google.colab.kernel.invokeFunction('convertToInteractive',\n",
              "                                                     [key], {});\n",
              "          if (!dataTable) return;\n",
              "\n",
              "          const docLinkHtml = 'Like what you see? Visit the ' +\n",
              "            '<a target=\"_blank\" href=https://colab.research.google.com/notebooks/data_table.ipynb>data table notebook</a>'\n",
              "            + ' to learn more about interactive tables.';\n",
              "          element.innerHTML = '';\n",
              "          dataTable['output_type'] = 'display_data';\n",
              "          await google.colab.output.renderOutput(dataTable, element);\n",
              "          const docLink = document.createElement('div');\n",
              "          docLink.innerHTML = docLinkHtml;\n",
              "          element.appendChild(docLink);\n",
              "        }\n",
              "      </script>\n",
              "    </div>\n",
              "  </div>\n",
              "  "
            ]
          },
          "metadata": {},
          "execution_count": 9
        }
      ]
    },
    {
      "cell_type": "code",
      "source": [
        "stock_list = [\n",
        "              'APPL', 'GOOGL', 'MSFT', 'META',\n",
        "              'TSLA',\n",
        "              'NVDA', 'AVGO', 'QCOM', 'INTL',\n",
        "              'PEP',\n",
        "              'AZN', 'BNTX',\n",
        "              'NFLX',\n",
        "              'ABNB',\n",
        "              'MRVL'\n",
        "            ]"
      ],
      "metadata": {
        "id": "gulqSCj9T-Vs"
      },
      "execution_count": 10,
      "outputs": []
    },
    {
      "cell_type": "code",
      "source": [
        "df = pd.DataFrame()\n",
        "for company in stock_list:\n",
        "    stock_info = yf.Ticker(company)\n",
        "    # pass the parameters as the taken dates for start and end\n",
        "    historic_data = stock_info.history(start=startDate, end=endDate)\n",
        "    historic_data[\"symbol\"] = company\n",
        "    print(type(historic_data))\n",
        "    # historic_data.append(historic_data, ignore_index=True)\n",
        "    # df_prime = pd.concat([historic_data, pd.DataFrame([[np.nan] * historic_data.shape[1]], columns=historic_data.columns)], ignore_index=True)\n",
        "    # df.append(historic_data)\n",
        "    df = pd.concat([df, historic_data], axis=0)\n",
        "    # print(historic_data)\n",
        "    print(df.shape)"
      ],
      "metadata": {
        "colab": {
          "base_uri": "https://localhost:8080/"
        },
        "id": "6DBLYXEwT-X2",
        "outputId": "c8adfc0a-10f8-48ba-a24e-9be69d778283"
      },
      "execution_count": 11,
      "outputs": [
        {
          "output_type": "stream",
          "name": "stdout",
          "text": [
            "APPL: No data found for this date range, symbol may be delisted\n",
            "<class 'pandas.core.frame.DataFrame'>\n",
            "(0, 7)\n",
            "<class 'pandas.core.frame.DataFrame'>\n",
            "(1132, 9)\n",
            "<class 'pandas.core.frame.DataFrame'>\n",
            "(2264, 9)\n",
            "<class 'pandas.core.frame.DataFrame'>\n",
            "(3396, 9)\n",
            "<class 'pandas.core.frame.DataFrame'>\n",
            "(4528, 9)\n",
            "<class 'pandas.core.frame.DataFrame'>\n",
            "(5660, 9)\n",
            "<class 'pandas.core.frame.DataFrame'>\n",
            "(6792, 9)\n",
            "<class 'pandas.core.frame.DataFrame'>\n",
            "(7924, 9)\n",
            "INTL: Data doesn't exist for startDate = 1491019200, endDate = 1632974400\n",
            "<class 'pandas.core.frame.DataFrame'>\n",
            "(7924, 9)\n",
            "<class 'pandas.core.frame.DataFrame'>\n",
            "(9056, 9)\n",
            "<class 'pandas.core.frame.DataFrame'>\n",
            "(10188, 9)\n",
            "<class 'pandas.core.frame.DataFrame'>\n",
            "(10685, 9)\n",
            "<class 'pandas.core.frame.DataFrame'>\n",
            "(11817, 9)\n",
            "<class 'pandas.core.frame.DataFrame'>\n",
            "(12019, 9)\n",
            "<class 'pandas.core.frame.DataFrame'>\n",
            "(13151, 9)\n"
          ]
        }
      ]
    },
    {
      "cell_type": "code",
      "source": [
        "df.head()"
      ],
      "metadata": {
        "colab": {
          "base_uri": "https://localhost:8080/",
          "height": 237
        },
        "id": "p39wpu74T-bs",
        "outputId": "5575284c-77cd-4b01-ca3c-d0dcef16e8d9"
      },
      "execution_count": 12,
      "outputs": [
        {
          "output_type": "execute_result",
          "data": {
            "text/plain": [
              "                                Open       High        Low      Close  \\\n",
              "Date                                                                    \n",
              "2017-04-03 00:00:00-04:00  42.437500  42.950001  42.376499  42.837502   \n",
              "2017-04-04 00:00:00-04:00  42.400002  42.650002  42.375500  42.628502   \n",
              "2017-04-05 00:00:00-04:00  42.735500  43.029499  42.375999  42.445499   \n",
              "2017-04-06 00:00:00-04:00  42.474998  42.679501  42.200001  42.255001   \n",
              "2017-04-07 00:00:00-04:00  42.250000  42.293999  41.865002  42.105000   \n",
              "\n",
              "                           Adj Close      Volume symbol  Dividends  \\\n",
              "Date                                                                 \n",
              "2017-04-03 00:00:00-04:00        NaN  39388000.0  GOOGL        0.0   \n",
              "2017-04-04 00:00:00-04:00        NaN  26970000.0  GOOGL        0.0   \n",
              "2017-04-05 00:00:00-04:00        NaN  37104000.0  GOOGL        0.0   \n",
              "2017-04-06 00:00:00-04:00        NaN  30672000.0  GOOGL        0.0   \n",
              "2017-04-07 00:00:00-04:00        NaN  22232000.0  GOOGL        0.0   \n",
              "\n",
              "                           Stock Splits  \n",
              "Date                                     \n",
              "2017-04-03 00:00:00-04:00           0.0  \n",
              "2017-04-04 00:00:00-04:00           0.0  \n",
              "2017-04-05 00:00:00-04:00           0.0  \n",
              "2017-04-06 00:00:00-04:00           0.0  \n",
              "2017-04-07 00:00:00-04:00           0.0  "
            ],
            "text/html": [
              "\n",
              "  <div id=\"df-c5890e01-9bfe-49be-9415-45e24927aae2\">\n",
              "    <div class=\"colab-df-container\">\n",
              "      <div>\n",
              "<style scoped>\n",
              "    .dataframe tbody tr th:only-of-type {\n",
              "        vertical-align: middle;\n",
              "    }\n",
              "\n",
              "    .dataframe tbody tr th {\n",
              "        vertical-align: top;\n",
              "    }\n",
              "\n",
              "    .dataframe thead th {\n",
              "        text-align: right;\n",
              "    }\n",
              "</style>\n",
              "<table border=\"1\" class=\"dataframe\">\n",
              "  <thead>\n",
              "    <tr style=\"text-align: right;\">\n",
              "      <th></th>\n",
              "      <th>Open</th>\n",
              "      <th>High</th>\n",
              "      <th>Low</th>\n",
              "      <th>Close</th>\n",
              "      <th>Adj Close</th>\n",
              "      <th>Volume</th>\n",
              "      <th>symbol</th>\n",
              "      <th>Dividends</th>\n",
              "      <th>Stock Splits</th>\n",
              "    </tr>\n",
              "    <tr>\n",
              "      <th>Date</th>\n",
              "      <th></th>\n",
              "      <th></th>\n",
              "      <th></th>\n",
              "      <th></th>\n",
              "      <th></th>\n",
              "      <th></th>\n",
              "      <th></th>\n",
              "      <th></th>\n",
              "      <th></th>\n",
              "    </tr>\n",
              "  </thead>\n",
              "  <tbody>\n",
              "    <tr>\n",
              "      <th>2017-04-03 00:00:00-04:00</th>\n",
              "      <td>42.437500</td>\n",
              "      <td>42.950001</td>\n",
              "      <td>42.376499</td>\n",
              "      <td>42.837502</td>\n",
              "      <td>NaN</td>\n",
              "      <td>39388000.0</td>\n",
              "      <td>GOOGL</td>\n",
              "      <td>0.0</td>\n",
              "      <td>0.0</td>\n",
              "    </tr>\n",
              "    <tr>\n",
              "      <th>2017-04-04 00:00:00-04:00</th>\n",
              "      <td>42.400002</td>\n",
              "      <td>42.650002</td>\n",
              "      <td>42.375500</td>\n",
              "      <td>42.628502</td>\n",
              "      <td>NaN</td>\n",
              "      <td>26970000.0</td>\n",
              "      <td>GOOGL</td>\n",
              "      <td>0.0</td>\n",
              "      <td>0.0</td>\n",
              "    </tr>\n",
              "    <tr>\n",
              "      <th>2017-04-05 00:00:00-04:00</th>\n",
              "      <td>42.735500</td>\n",
              "      <td>43.029499</td>\n",
              "      <td>42.375999</td>\n",
              "      <td>42.445499</td>\n",
              "      <td>NaN</td>\n",
              "      <td>37104000.0</td>\n",
              "      <td>GOOGL</td>\n",
              "      <td>0.0</td>\n",
              "      <td>0.0</td>\n",
              "    </tr>\n",
              "    <tr>\n",
              "      <th>2017-04-06 00:00:00-04:00</th>\n",
              "      <td>42.474998</td>\n",
              "      <td>42.679501</td>\n",
              "      <td>42.200001</td>\n",
              "      <td>42.255001</td>\n",
              "      <td>NaN</td>\n",
              "      <td>30672000.0</td>\n",
              "      <td>GOOGL</td>\n",
              "      <td>0.0</td>\n",
              "      <td>0.0</td>\n",
              "    </tr>\n",
              "    <tr>\n",
              "      <th>2017-04-07 00:00:00-04:00</th>\n",
              "      <td>42.250000</td>\n",
              "      <td>42.293999</td>\n",
              "      <td>41.865002</td>\n",
              "      <td>42.105000</td>\n",
              "      <td>NaN</td>\n",
              "      <td>22232000.0</td>\n",
              "      <td>GOOGL</td>\n",
              "      <td>0.0</td>\n",
              "      <td>0.0</td>\n",
              "    </tr>\n",
              "  </tbody>\n",
              "</table>\n",
              "</div>\n",
              "      <button class=\"colab-df-convert\" onclick=\"convertToInteractive('df-c5890e01-9bfe-49be-9415-45e24927aae2')\"\n",
              "              title=\"Convert this dataframe to an interactive table.\"\n",
              "              style=\"display:none;\">\n",
              "        \n",
              "  <svg xmlns=\"http://www.w3.org/2000/svg\" height=\"24px\"viewBox=\"0 0 24 24\"\n",
              "       width=\"24px\">\n",
              "    <path d=\"M0 0h24v24H0V0z\" fill=\"none\"/>\n",
              "    <path d=\"M18.56 5.44l.94 2.06.94-2.06 2.06-.94-2.06-.94-.94-2.06-.94 2.06-2.06.94zm-11 1L8.5 8.5l.94-2.06 2.06-.94-2.06-.94L8.5 2.5l-.94 2.06-2.06.94zm10 10l.94 2.06.94-2.06 2.06-.94-2.06-.94-.94-2.06-.94 2.06-2.06.94z\"/><path d=\"M17.41 7.96l-1.37-1.37c-.4-.4-.92-.59-1.43-.59-.52 0-1.04.2-1.43.59L10.3 9.45l-7.72 7.72c-.78.78-.78 2.05 0 2.83L4 21.41c.39.39.9.59 1.41.59.51 0 1.02-.2 1.41-.59l7.78-7.78 2.81-2.81c.8-.78.8-2.07 0-2.86zM5.41 20L4 18.59l7.72-7.72 1.47 1.35L5.41 20z\"/>\n",
              "  </svg>\n",
              "      </button>\n",
              "      \n",
              "  <style>\n",
              "    .colab-df-container {\n",
              "      display:flex;\n",
              "      flex-wrap:wrap;\n",
              "      gap: 12px;\n",
              "    }\n",
              "\n",
              "    .colab-df-convert {\n",
              "      background-color: #E8F0FE;\n",
              "      border: none;\n",
              "      border-radius: 50%;\n",
              "      cursor: pointer;\n",
              "      display: none;\n",
              "      fill: #1967D2;\n",
              "      height: 32px;\n",
              "      padding: 0 0 0 0;\n",
              "      width: 32px;\n",
              "    }\n",
              "\n",
              "    .colab-df-convert:hover {\n",
              "      background-color: #E2EBFA;\n",
              "      box-shadow: 0px 1px 2px rgba(60, 64, 67, 0.3), 0px 1px 3px 1px rgba(60, 64, 67, 0.15);\n",
              "      fill: #174EA6;\n",
              "    }\n",
              "\n",
              "    [theme=dark] .colab-df-convert {\n",
              "      background-color: #3B4455;\n",
              "      fill: #D2E3FC;\n",
              "    }\n",
              "\n",
              "    [theme=dark] .colab-df-convert:hover {\n",
              "      background-color: #434B5C;\n",
              "      box-shadow: 0px 1px 3px 1px rgba(0, 0, 0, 0.15);\n",
              "      filter: drop-shadow(0px 1px 2px rgba(0, 0, 0, 0.3));\n",
              "      fill: #FFFFFF;\n",
              "    }\n",
              "  </style>\n",
              "\n",
              "      <script>\n",
              "        const buttonEl =\n",
              "          document.querySelector('#df-c5890e01-9bfe-49be-9415-45e24927aae2 button.colab-df-convert');\n",
              "        buttonEl.style.display =\n",
              "          google.colab.kernel.accessAllowed ? 'block' : 'none';\n",
              "\n",
              "        async function convertToInteractive(key) {\n",
              "          const element = document.querySelector('#df-c5890e01-9bfe-49be-9415-45e24927aae2');\n",
              "          const dataTable =\n",
              "            await google.colab.kernel.invokeFunction('convertToInteractive',\n",
              "                                                     [key], {});\n",
              "          if (!dataTable) return;\n",
              "\n",
              "          const docLinkHtml = 'Like what you see? Visit the ' +\n",
              "            '<a target=\"_blank\" href=https://colab.research.google.com/notebooks/data_table.ipynb>data table notebook</a>'\n",
              "            + ' to learn more about interactive tables.';\n",
              "          element.innerHTML = '';\n",
              "          dataTable['output_type'] = 'display_data';\n",
              "          await google.colab.output.renderOutput(dataTable, element);\n",
              "          const docLink = document.createElement('div');\n",
              "          docLink.innerHTML = docLinkHtml;\n",
              "          element.appendChild(docLink);\n",
              "        }\n",
              "      </script>\n",
              "    </div>\n",
              "  </div>\n",
              "  "
            ]
          },
          "metadata": {},
          "execution_count": 12
        }
      ]
    },
    {
      "cell_type": "code",
      "source": [
        "df.shape"
      ],
      "metadata": {
        "colab": {
          "base_uri": "https://localhost:8080/"
        },
        "id": "Jl9l9GOzT-d4",
        "outputId": "8f038fac-7495-4ae8-c516-71ae50a7e9c5"
      },
      "execution_count": 13,
      "outputs": [
        {
          "output_type": "execute_result",
          "data": {
            "text/plain": [
              "(13151, 9)"
            ]
          },
          "metadata": {},
          "execution_count": 13
        }
      ]
    },
    {
      "cell_type": "code",
      "source": [
        "df.columns"
      ],
      "metadata": {
        "colab": {
          "base_uri": "https://localhost:8080/"
        },
        "id": "dXbzHz_xT-fl",
        "outputId": "46a4e84d-b75b-462b-e1fc-ce99ab32cf11"
      },
      "execution_count": 14,
      "outputs": [
        {
          "output_type": "execute_result",
          "data": {
            "text/plain": [
              "Index(['Open', 'High', 'Low', 'Close', 'Adj Close', 'Volume', 'symbol',\n",
              "       'Dividends', 'Stock Splits'],\n",
              "      dtype='object')"
            ]
          },
          "metadata": {},
          "execution_count": 14
        }
      ]
    },
    {
      "cell_type": "code",
      "source": [
        "def compute_mean(historic_data):\n",
        "  # print(historic_data)\n",
        "  mean_movement = historic_data[[\"Open\",\t\"High\",\t\"Low\", \"Close\"]].mean()\n",
        "  return mean_movement"
      ],
      "metadata": {
        "id": "ur_gKL8LttIa"
      },
      "execution_count": 15,
      "outputs": []
    },
    {
      "cell_type": "markdown",
      "source": [
        "Highest price of the day\n",
        "Minimum price of the day\n",
        "Opening price of the day\n",
        "Closing Price of the day\n",
        "Take the average of these four attributes as an average movement of the day. Now apply k-Means clustering to cluster the chosen 15 companies as per their respective sectors."
      ],
      "metadata": {
        "id": "AWsbV-HItGFT"
      }
    },
    {
      "cell_type": "code",
      "source": [
        "df['Average Movement'] = df.apply(lambda col: compute_mean(col), axis=1)"
      ],
      "metadata": {
        "id": "hiE1zZ0Dsi3L"
      },
      "execution_count": 16,
      "outputs": []
    },
    {
      "cell_type": "code",
      "source": [
        "df['Average Movement']"
      ],
      "metadata": {
        "colab": {
          "base_uri": "https://localhost:8080/"
        },
        "id": "DqnwJKdIT-hq",
        "outputId": "56738f48-04bf-4c33-8f8c-3b6b3a47c31f"
      },
      "execution_count": 17,
      "outputs": [
        {
          "output_type": "execute_result",
          "data": {
            "text/plain": [
              "Date\n",
              "2017-04-03 00:00:00-04:00    42.650375\n",
              "2017-04-04 00:00:00-04:00    42.513501\n",
              "2017-04-05 00:00:00-04:00    42.646625\n",
              "2017-04-06 00:00:00-04:00    42.402375\n",
              "2017-04-07 00:00:00-04:00    42.128500\n",
              "                               ...    \n",
              "2021-09-23 00:00:00-04:00    62.845585\n",
              "2021-09-24 00:00:00-04:00    62.867935\n",
              "2021-09-27 00:00:00-04:00    62.440850\n",
              "2021-09-28 00:00:00-04:00    60.767283\n",
              "2021-09-29 00:00:00-04:00    60.370002\n",
              "Name: Average Movement, Length: 13151, dtype: float64"
            ]
          },
          "metadata": {},
          "execution_count": 17
        }
      ]
    },
    {
      "cell_type": "code",
      "source": [
        "import pandas_datareader as web\n",
        "import pandas as pd\n",
        "import numpy as np\n",
        "import datetime as dt\n",
        "\n",
        "from sklearn.preprocessing import Normalizer\n",
        "from sklearn.pipeline import make_pipeline\n",
        "from sklearn.cluster import KMeans\n",
        "from yahoo_fin import stock_info as si"
      ],
      "metadata": {
        "id": "3-lOmmI5T-j0"
      },
      "execution_count": 19,
      "outputs": []
    },
    {
      "cell_type": "code",
      "source": [
        "companies_dow30 = si.tickers_dow()"
      ],
      "metadata": {
        "id": "4PziuYTST-pz"
      },
      "execution_count": 20,
      "outputs": []
    },
    {
      "cell_type": "code",
      "source": [
        "companies_dow30"
      ],
      "metadata": {
        "id": "URMvJyyDT-rg",
        "colab": {
          "base_uri": "https://localhost:8080/"
        },
        "outputId": "e5ffe90f-c0ee-4abc-cb76-255e2779b093"
      },
      "execution_count": 21,
      "outputs": [
        {
          "output_type": "execute_result",
          "data": {
            "text/plain": [
              "['AAPL',\n",
              " 'AMGN',\n",
              " 'AXP',\n",
              " 'BA',\n",
              " 'CAT',\n",
              " 'CRM',\n",
              " 'CSCO',\n",
              " 'CVX',\n",
              " 'DIS',\n",
              " 'DOW',\n",
              " 'GS',\n",
              " 'HD',\n",
              " 'HON',\n",
              " 'IBM',\n",
              " 'INTC',\n",
              " 'JNJ',\n",
              " 'JPM',\n",
              " 'KO',\n",
              " 'MCD',\n",
              " 'MMM',\n",
              " 'MRK',\n",
              " 'MSFT',\n",
              " 'NKE',\n",
              " 'PG',\n",
              " 'TRV',\n",
              " 'UNH',\n",
              " 'V',\n",
              " 'VZ',\n",
              " 'WBA',\n",
              " 'WMT']"
            ]
          },
          "metadata": {},
          "execution_count": 21
        }
      ]
    },
    {
      "cell_type": "code",
      "source": [
        "companies_dow29 = companies_dow30.remove(\"DOW\")"
      ],
      "metadata": {
        "id": "mwFMNOq8j0oc"
      },
      "execution_count": 22,
      "outputs": []
    },
    {
      "cell_type": "code",
      "source": [
        "from google.colab import drive\n",
        "drive.mount('/content/drive')"
      ],
      "metadata": {
        "id": "es2_L_CDCgc5",
        "colab": {
          "base_uri": "https://localhost:8080/"
        },
        "outputId": "b36cde72-181e-494e-8ff7-9cfc1433f108"
      },
      "execution_count": 23,
      "outputs": [
        {
          "output_type": "stream",
          "name": "stdout",
          "text": [
            "Mounted at /content/drive\n"
          ]
        }
      ]
    },
    {
      "cell_type": "code",
      "source": [
        "# start = dt.datetime.now() - dt.timedelta(days=365*2)\n",
        "# end = dt.datetime.now()\n",
        "\n",
        "start = dt.datetime(2017, 4, 1)\n",
        "end = dt.datetime(2021, 9, 30)"
      ],
      "metadata": {
        "id": "C5_yqdVfT-vw"
      },
      "execution_count": 24,
      "outputs": []
    },
    {
      "cell_type": "code",
      "source": [
        "data = web.DataReader(list(companies_dow30), 'stooq', start, end)"
      ],
      "metadata": {
        "id": "z-jCSB6eT-zy"
      },
      "execution_count": 25,
      "outputs": []
    },
    {
      "cell_type": "code",
      "source": [
        "data"
      ],
      "metadata": {
        "id": "6Nenh1MET-1r",
        "colab": {
          "base_uri": "https://localhost:8080/",
          "height": 486
        },
        "outputId": "165e7553-5870-4880-d91e-e56feb05c92f"
      },
      "execution_count": 26,
      "outputs": [
        {
          "output_type": "execute_result",
          "data": {
            "text/plain": [
              "Attributes     Close                                                        \\\n",
              "Symbols         AAPL     AMGN       AXP      BA       CAT     CRM     CSCO   \n",
              "Date                                                                         \n",
              "2021-09-30  140.4720  204.425  164.9700  219.94  186.5340  271.22  52.4189   \n",
              "2021-09-29  141.7980  206.587  168.9200  225.36  192.2660  270.50  53.4303   \n",
              "2021-09-28  140.8800  204.054  170.4980  218.41  194.8700  272.28  53.4686   \n",
              "2021-09-27  144.3300  204.866  174.0720  224.16  194.3370  279.68  54.1433   \n",
              "2021-09-24  145.8650  205.345  173.0390  221.39  191.2390  285.63  54.6342   \n",
              "...              ...      ...       ...     ...       ...     ...      ...   \n",
              "2017-04-07   33.6782  138.031   71.8766  167.25   82.6229   84.38  27.8277   \n",
              "2017-04-06   33.7550  137.082   72.0146  165.84   82.8813   85.00  27.9279   \n",
              "2017-04-05   33.8428  137.073   71.8667  165.58   81.5141   85.34  27.8601   \n",
              "2017-04-04   34.0183  138.891   72.0334  167.11   81.4183   82.97  28.2058   \n",
              "2017-04-03   33.7650  138.470   72.3382  165.18   79.8124   82.31  28.1046   \n",
              "\n",
              "Attributes                            ...        Volume                \\\n",
              "Symbols         CVX     DIS       GS  ...           MRK          MSFT   \n",
              "Date                                  ...                               \n",
              "2021-09-30  96.8030  169.17  366.387  ...  1.693280e+07  3.270643e+07   \n",
              "2021-09-29  98.5995  172.68  373.032  ...  1.672781e+07  2.664930e+07   \n",
              "2021-09-28  98.6290  174.52  377.500  ...  1.233256e+07  4.367065e+07   \n",
              "2021-09-27  98.2485  178.26  387.487  ...  8.992508e+06  2.383614e+07   \n",
              "2021-09-24  95.9934  176.00  378.804  ...  1.533176e+07  1.516722e+07   \n",
              "...             ...     ...      ...  ...           ...           ...   \n",
              "2017-04-07  84.8967  107.81  203.897  ...  9.231203e+06  1.522397e+07   \n",
              "2017-04-06  85.2136  108.26  204.563  ...  9.029881e+06  1.879631e+07   \n",
              "2017-04-05  84.7270  108.21  203.701  ...  9.213565e+06  2.221353e+07   \n",
              "2017-04-04  84.7436  108.25  205.132  ...  7.586754e+06  1.363509e+07   \n",
              "2017-04-03  84.0608  108.39  204.848  ...  7.942998e+06  2.201379e+07   \n",
              "\n",
              "Attributes                                                          \\\n",
              "Symbols              NKE            PG           TRV           UNH   \n",
              "Date                                                                 \n",
              "2021-09-30  1.026321e+07  7.152903e+06  1.125171e+06  3.840874e+06   \n",
              "2021-09-29  7.892834e+06  5.630186e+06  8.801865e+05  2.089643e+06   \n",
              "2021-09-28  1.082659e+07  7.234038e+06  9.772446e+05  3.165543e+06   \n",
              "2021-09-27  1.162345e+07  5.929096e+06  1.136483e+06  2.650620e+06   \n",
              "2021-09-24  2.725135e+07  5.165547e+06  8.563942e+05  1.981827e+06   \n",
              "...                  ...           ...           ...           ...   \n",
              "2017-04-07  6.451034e+06  5.557349e+06  1.216060e+06  3.186123e+06   \n",
              "2017-04-06  7.102519e+06  8.480183e+06  1.402306e+06  3.181659e+06   \n",
              "2017-04-05  8.186966e+06  7.401808e+06  1.468795e+06  3.853713e+06   \n",
              "2017-04-04  9.385378e+06  6.661367e+06  1.031115e+06  3.140300e+06   \n",
              "2017-04-03  7.523017e+06  8.170534e+06  1.298282e+06  3.779832e+06   \n",
              "\n",
              "Attributes                                                          \n",
              "Symbols                V            VZ           WBA           WMT  \n",
              "Date                                                                \n",
              "2021-09-30  7.200826e+06  2.000450e+07  6.816348e+06  7.638608e+06  \n",
              "2021-09-29  6.492751e+06  1.581965e+07  5.882077e+06  7.266305e+06  \n",
              "2021-09-28  7.016277e+06  2.084130e+07  6.679854e+06  6.996149e+06  \n",
              "2021-09-27  6.945324e+06  1.400030e+07  7.065684e+06  7.223872e+06  \n",
              "2021-09-24  6.521581e+06  1.351545e+07  3.652097e+06  4.541760e+06  \n",
              "...                  ...           ...           ...           ...  \n",
              "2017-04-07  5.650643e+06  2.223821e+07  6.781909e+06  1.201536e+07  \n",
              "2017-04-06  8.796073e+06  2.376422e+07  5.522658e+06  6.628523e+06  \n",
              "2017-04-05  7.528862e+06  1.863601e+07  1.444369e+07  7.085069e+06  \n",
              "2017-04-04  5.048579e+06  1.166582e+07  3.826721e+06  6.211782e+06  \n",
              "2017-04-03  9.479984e+06  1.864316e+07  3.993671e+06  9.251999e+06  \n",
              "\n",
              "[1133 rows x 145 columns]"
            ],
            "text/html": [
              "\n",
              "  <div id=\"df-7c894353-57bc-4bd6-961f-83df25deb8e8\">\n",
              "    <div class=\"colab-df-container\">\n",
              "      <div>\n",
              "<style scoped>\n",
              "    .dataframe tbody tr th:only-of-type {\n",
              "        vertical-align: middle;\n",
              "    }\n",
              "\n",
              "    .dataframe tbody tr th {\n",
              "        vertical-align: top;\n",
              "    }\n",
              "\n",
              "    .dataframe thead tr th {\n",
              "        text-align: left;\n",
              "    }\n",
              "\n",
              "    .dataframe thead tr:last-of-type th {\n",
              "        text-align: right;\n",
              "    }\n",
              "</style>\n",
              "<table border=\"1\" class=\"dataframe\">\n",
              "  <thead>\n",
              "    <tr>\n",
              "      <th>Attributes</th>\n",
              "      <th colspan=\"10\" halign=\"left\">Close</th>\n",
              "      <th>...</th>\n",
              "      <th colspan=\"10\" halign=\"left\">Volume</th>\n",
              "    </tr>\n",
              "    <tr>\n",
              "      <th>Symbols</th>\n",
              "      <th>AAPL</th>\n",
              "      <th>AMGN</th>\n",
              "      <th>AXP</th>\n",
              "      <th>BA</th>\n",
              "      <th>CAT</th>\n",
              "      <th>CRM</th>\n",
              "      <th>CSCO</th>\n",
              "      <th>CVX</th>\n",
              "      <th>DIS</th>\n",
              "      <th>GS</th>\n",
              "      <th>...</th>\n",
              "      <th>MRK</th>\n",
              "      <th>MSFT</th>\n",
              "      <th>NKE</th>\n",
              "      <th>PG</th>\n",
              "      <th>TRV</th>\n",
              "      <th>UNH</th>\n",
              "      <th>V</th>\n",
              "      <th>VZ</th>\n",
              "      <th>WBA</th>\n",
              "      <th>WMT</th>\n",
              "    </tr>\n",
              "    <tr>\n",
              "      <th>Date</th>\n",
              "      <th></th>\n",
              "      <th></th>\n",
              "      <th></th>\n",
              "      <th></th>\n",
              "      <th></th>\n",
              "      <th></th>\n",
              "      <th></th>\n",
              "      <th></th>\n",
              "      <th></th>\n",
              "      <th></th>\n",
              "      <th></th>\n",
              "      <th></th>\n",
              "      <th></th>\n",
              "      <th></th>\n",
              "      <th></th>\n",
              "      <th></th>\n",
              "      <th></th>\n",
              "      <th></th>\n",
              "      <th></th>\n",
              "      <th></th>\n",
              "      <th></th>\n",
              "    </tr>\n",
              "  </thead>\n",
              "  <tbody>\n",
              "    <tr>\n",
              "      <th>2021-09-30</th>\n",
              "      <td>140.4720</td>\n",
              "      <td>204.425</td>\n",
              "      <td>164.9700</td>\n",
              "      <td>219.94</td>\n",
              "      <td>186.5340</td>\n",
              "      <td>271.22</td>\n",
              "      <td>52.4189</td>\n",
              "      <td>96.8030</td>\n",
              "      <td>169.17</td>\n",
              "      <td>366.387</td>\n",
              "      <td>...</td>\n",
              "      <td>1.693280e+07</td>\n",
              "      <td>3.270643e+07</td>\n",
              "      <td>1.026321e+07</td>\n",
              "      <td>7.152903e+06</td>\n",
              "      <td>1.125171e+06</td>\n",
              "      <td>3.840874e+06</td>\n",
              "      <td>7.200826e+06</td>\n",
              "      <td>2.000450e+07</td>\n",
              "      <td>6.816348e+06</td>\n",
              "      <td>7.638608e+06</td>\n",
              "    </tr>\n",
              "    <tr>\n",
              "      <th>2021-09-29</th>\n",
              "      <td>141.7980</td>\n",
              "      <td>206.587</td>\n",
              "      <td>168.9200</td>\n",
              "      <td>225.36</td>\n",
              "      <td>192.2660</td>\n",
              "      <td>270.50</td>\n",
              "      <td>53.4303</td>\n",
              "      <td>98.5995</td>\n",
              "      <td>172.68</td>\n",
              "      <td>373.032</td>\n",
              "      <td>...</td>\n",
              "      <td>1.672781e+07</td>\n",
              "      <td>2.664930e+07</td>\n",
              "      <td>7.892834e+06</td>\n",
              "      <td>5.630186e+06</td>\n",
              "      <td>8.801865e+05</td>\n",
              "      <td>2.089643e+06</td>\n",
              "      <td>6.492751e+06</td>\n",
              "      <td>1.581965e+07</td>\n",
              "      <td>5.882077e+06</td>\n",
              "      <td>7.266305e+06</td>\n",
              "    </tr>\n",
              "    <tr>\n",
              "      <th>2021-09-28</th>\n",
              "      <td>140.8800</td>\n",
              "      <td>204.054</td>\n",
              "      <td>170.4980</td>\n",
              "      <td>218.41</td>\n",
              "      <td>194.8700</td>\n",
              "      <td>272.28</td>\n",
              "      <td>53.4686</td>\n",
              "      <td>98.6290</td>\n",
              "      <td>174.52</td>\n",
              "      <td>377.500</td>\n",
              "      <td>...</td>\n",
              "      <td>1.233256e+07</td>\n",
              "      <td>4.367065e+07</td>\n",
              "      <td>1.082659e+07</td>\n",
              "      <td>7.234038e+06</td>\n",
              "      <td>9.772446e+05</td>\n",
              "      <td>3.165543e+06</td>\n",
              "      <td>7.016277e+06</td>\n",
              "      <td>2.084130e+07</td>\n",
              "      <td>6.679854e+06</td>\n",
              "      <td>6.996149e+06</td>\n",
              "    </tr>\n",
              "    <tr>\n",
              "      <th>2021-09-27</th>\n",
              "      <td>144.3300</td>\n",
              "      <td>204.866</td>\n",
              "      <td>174.0720</td>\n",
              "      <td>224.16</td>\n",
              "      <td>194.3370</td>\n",
              "      <td>279.68</td>\n",
              "      <td>54.1433</td>\n",
              "      <td>98.2485</td>\n",
              "      <td>178.26</td>\n",
              "      <td>387.487</td>\n",
              "      <td>...</td>\n",
              "      <td>8.992508e+06</td>\n",
              "      <td>2.383614e+07</td>\n",
              "      <td>1.162345e+07</td>\n",
              "      <td>5.929096e+06</td>\n",
              "      <td>1.136483e+06</td>\n",
              "      <td>2.650620e+06</td>\n",
              "      <td>6.945324e+06</td>\n",
              "      <td>1.400030e+07</td>\n",
              "      <td>7.065684e+06</td>\n",
              "      <td>7.223872e+06</td>\n",
              "    </tr>\n",
              "    <tr>\n",
              "      <th>2021-09-24</th>\n",
              "      <td>145.8650</td>\n",
              "      <td>205.345</td>\n",
              "      <td>173.0390</td>\n",
              "      <td>221.39</td>\n",
              "      <td>191.2390</td>\n",
              "      <td>285.63</td>\n",
              "      <td>54.6342</td>\n",
              "      <td>95.9934</td>\n",
              "      <td>176.00</td>\n",
              "      <td>378.804</td>\n",
              "      <td>...</td>\n",
              "      <td>1.533176e+07</td>\n",
              "      <td>1.516722e+07</td>\n",
              "      <td>2.725135e+07</td>\n",
              "      <td>5.165547e+06</td>\n",
              "      <td>8.563942e+05</td>\n",
              "      <td>1.981827e+06</td>\n",
              "      <td>6.521581e+06</td>\n",
              "      <td>1.351545e+07</td>\n",
              "      <td>3.652097e+06</td>\n",
              "      <td>4.541760e+06</td>\n",
              "    </tr>\n",
              "    <tr>\n",
              "      <th>...</th>\n",
              "      <td>...</td>\n",
              "      <td>...</td>\n",
              "      <td>...</td>\n",
              "      <td>...</td>\n",
              "      <td>...</td>\n",
              "      <td>...</td>\n",
              "      <td>...</td>\n",
              "      <td>...</td>\n",
              "      <td>...</td>\n",
              "      <td>...</td>\n",
              "      <td>...</td>\n",
              "      <td>...</td>\n",
              "      <td>...</td>\n",
              "      <td>...</td>\n",
              "      <td>...</td>\n",
              "      <td>...</td>\n",
              "      <td>...</td>\n",
              "      <td>...</td>\n",
              "      <td>...</td>\n",
              "      <td>...</td>\n",
              "      <td>...</td>\n",
              "    </tr>\n",
              "    <tr>\n",
              "      <th>2017-04-07</th>\n",
              "      <td>33.6782</td>\n",
              "      <td>138.031</td>\n",
              "      <td>71.8766</td>\n",
              "      <td>167.25</td>\n",
              "      <td>82.6229</td>\n",
              "      <td>84.38</td>\n",
              "      <td>27.8277</td>\n",
              "      <td>84.8967</td>\n",
              "      <td>107.81</td>\n",
              "      <td>203.897</td>\n",
              "      <td>...</td>\n",
              "      <td>9.231203e+06</td>\n",
              "      <td>1.522397e+07</td>\n",
              "      <td>6.451034e+06</td>\n",
              "      <td>5.557349e+06</td>\n",
              "      <td>1.216060e+06</td>\n",
              "      <td>3.186123e+06</td>\n",
              "      <td>5.650643e+06</td>\n",
              "      <td>2.223821e+07</td>\n",
              "      <td>6.781909e+06</td>\n",
              "      <td>1.201536e+07</td>\n",
              "    </tr>\n",
              "    <tr>\n",
              "      <th>2017-04-06</th>\n",
              "      <td>33.7550</td>\n",
              "      <td>137.082</td>\n",
              "      <td>72.0146</td>\n",
              "      <td>165.84</td>\n",
              "      <td>82.8813</td>\n",
              "      <td>85.00</td>\n",
              "      <td>27.9279</td>\n",
              "      <td>85.2136</td>\n",
              "      <td>108.26</td>\n",
              "      <td>204.563</td>\n",
              "      <td>...</td>\n",
              "      <td>9.029881e+06</td>\n",
              "      <td>1.879631e+07</td>\n",
              "      <td>7.102519e+06</td>\n",
              "      <td>8.480183e+06</td>\n",
              "      <td>1.402306e+06</td>\n",
              "      <td>3.181659e+06</td>\n",
              "      <td>8.796073e+06</td>\n",
              "      <td>2.376422e+07</td>\n",
              "      <td>5.522658e+06</td>\n",
              "      <td>6.628523e+06</td>\n",
              "    </tr>\n",
              "    <tr>\n",
              "      <th>2017-04-05</th>\n",
              "      <td>33.8428</td>\n",
              "      <td>137.073</td>\n",
              "      <td>71.8667</td>\n",
              "      <td>165.58</td>\n",
              "      <td>81.5141</td>\n",
              "      <td>85.34</td>\n",
              "      <td>27.8601</td>\n",
              "      <td>84.7270</td>\n",
              "      <td>108.21</td>\n",
              "      <td>203.701</td>\n",
              "      <td>...</td>\n",
              "      <td>9.213565e+06</td>\n",
              "      <td>2.221353e+07</td>\n",
              "      <td>8.186966e+06</td>\n",
              "      <td>7.401808e+06</td>\n",
              "      <td>1.468795e+06</td>\n",
              "      <td>3.853713e+06</td>\n",
              "      <td>7.528862e+06</td>\n",
              "      <td>1.863601e+07</td>\n",
              "      <td>1.444369e+07</td>\n",
              "      <td>7.085069e+06</td>\n",
              "    </tr>\n",
              "    <tr>\n",
              "      <th>2017-04-04</th>\n",
              "      <td>34.0183</td>\n",
              "      <td>138.891</td>\n",
              "      <td>72.0334</td>\n",
              "      <td>167.11</td>\n",
              "      <td>81.4183</td>\n",
              "      <td>82.97</td>\n",
              "      <td>28.2058</td>\n",
              "      <td>84.7436</td>\n",
              "      <td>108.25</td>\n",
              "      <td>205.132</td>\n",
              "      <td>...</td>\n",
              "      <td>7.586754e+06</td>\n",
              "      <td>1.363509e+07</td>\n",
              "      <td>9.385378e+06</td>\n",
              "      <td>6.661367e+06</td>\n",
              "      <td>1.031115e+06</td>\n",
              "      <td>3.140300e+06</td>\n",
              "      <td>5.048579e+06</td>\n",
              "      <td>1.166582e+07</td>\n",
              "      <td>3.826721e+06</td>\n",
              "      <td>6.211782e+06</td>\n",
              "    </tr>\n",
              "    <tr>\n",
              "      <th>2017-04-03</th>\n",
              "      <td>33.7650</td>\n",
              "      <td>138.470</td>\n",
              "      <td>72.3382</td>\n",
              "      <td>165.18</td>\n",
              "      <td>79.8124</td>\n",
              "      <td>82.31</td>\n",
              "      <td>28.1046</td>\n",
              "      <td>84.0608</td>\n",
              "      <td>108.39</td>\n",
              "      <td>204.848</td>\n",
              "      <td>...</td>\n",
              "      <td>7.942998e+06</td>\n",
              "      <td>2.201379e+07</td>\n",
              "      <td>7.523017e+06</td>\n",
              "      <td>8.170534e+06</td>\n",
              "      <td>1.298282e+06</td>\n",
              "      <td>3.779832e+06</td>\n",
              "      <td>9.479984e+06</td>\n",
              "      <td>1.864316e+07</td>\n",
              "      <td>3.993671e+06</td>\n",
              "      <td>9.251999e+06</td>\n",
              "    </tr>\n",
              "  </tbody>\n",
              "</table>\n",
              "<p>1133 rows × 145 columns</p>\n",
              "</div>\n",
              "      <button class=\"colab-df-convert\" onclick=\"convertToInteractive('df-7c894353-57bc-4bd6-961f-83df25deb8e8')\"\n",
              "              title=\"Convert this dataframe to an interactive table.\"\n",
              "              style=\"display:none;\">\n",
              "        \n",
              "  <svg xmlns=\"http://www.w3.org/2000/svg\" height=\"24px\"viewBox=\"0 0 24 24\"\n",
              "       width=\"24px\">\n",
              "    <path d=\"M0 0h24v24H0V0z\" fill=\"none\"/>\n",
              "    <path d=\"M18.56 5.44l.94 2.06.94-2.06 2.06-.94-2.06-.94-.94-2.06-.94 2.06-2.06.94zm-11 1L8.5 8.5l.94-2.06 2.06-.94-2.06-.94L8.5 2.5l-.94 2.06-2.06.94zm10 10l.94 2.06.94-2.06 2.06-.94-2.06-.94-.94-2.06-.94 2.06-2.06.94z\"/><path d=\"M17.41 7.96l-1.37-1.37c-.4-.4-.92-.59-1.43-.59-.52 0-1.04.2-1.43.59L10.3 9.45l-7.72 7.72c-.78.78-.78 2.05 0 2.83L4 21.41c.39.39.9.59 1.41.59.51 0 1.02-.2 1.41-.59l7.78-7.78 2.81-2.81c.8-.78.8-2.07 0-2.86zM5.41 20L4 18.59l7.72-7.72 1.47 1.35L5.41 20z\"/>\n",
              "  </svg>\n",
              "      </button>\n",
              "      \n",
              "  <style>\n",
              "    .colab-df-container {\n",
              "      display:flex;\n",
              "      flex-wrap:wrap;\n",
              "      gap: 12px;\n",
              "    }\n",
              "\n",
              "    .colab-df-convert {\n",
              "      background-color: #E8F0FE;\n",
              "      border: none;\n",
              "      border-radius: 50%;\n",
              "      cursor: pointer;\n",
              "      display: none;\n",
              "      fill: #1967D2;\n",
              "      height: 32px;\n",
              "      padding: 0 0 0 0;\n",
              "      width: 32px;\n",
              "    }\n",
              "\n",
              "    .colab-df-convert:hover {\n",
              "      background-color: #E2EBFA;\n",
              "      box-shadow: 0px 1px 2px rgba(60, 64, 67, 0.3), 0px 1px 3px 1px rgba(60, 64, 67, 0.15);\n",
              "      fill: #174EA6;\n",
              "    }\n",
              "\n",
              "    [theme=dark] .colab-df-convert {\n",
              "      background-color: #3B4455;\n",
              "      fill: #D2E3FC;\n",
              "    }\n",
              "\n",
              "    [theme=dark] .colab-df-convert:hover {\n",
              "      background-color: #434B5C;\n",
              "      box-shadow: 0px 1px 3px 1px rgba(0, 0, 0, 0.15);\n",
              "      filter: drop-shadow(0px 1px 2px rgba(0, 0, 0, 0.3));\n",
              "      fill: #FFFFFF;\n",
              "    }\n",
              "  </style>\n",
              "\n",
              "      <script>\n",
              "        const buttonEl =\n",
              "          document.querySelector('#df-7c894353-57bc-4bd6-961f-83df25deb8e8 button.colab-df-convert');\n",
              "        buttonEl.style.display =\n",
              "          google.colab.kernel.accessAllowed ? 'block' : 'none';\n",
              "\n",
              "        async function convertToInteractive(key) {\n",
              "          const element = document.querySelector('#df-7c894353-57bc-4bd6-961f-83df25deb8e8');\n",
              "          const dataTable =\n",
              "            await google.colab.kernel.invokeFunction('convertToInteractive',\n",
              "                                                     [key], {});\n",
              "          if (!dataTable) return;\n",
              "\n",
              "          const docLinkHtml = 'Like what you see? Visit the ' +\n",
              "            '<a target=\"_blank\" href=https://colab.research.google.com/notebooks/data_table.ipynb>data table notebook</a>'\n",
              "            + ' to learn more about interactive tables.';\n",
              "          element.innerHTML = '';\n",
              "          dataTable['output_type'] = 'display_data';\n",
              "          await google.colab.output.renderOutput(dataTable, element);\n",
              "          const docLink = document.createElement('div');\n",
              "          docLink.innerHTML = docLinkHtml;\n",
              "          element.appendChild(docLink);\n",
              "        }\n",
              "      </script>\n",
              "    </div>\n",
              "  </div>\n",
              "  "
            ]
          },
          "metadata": {},
          "execution_count": 26
        }
      ]
    },
    {
      "cell_type": "code",
      "source": [
        "data.shape"
      ],
      "metadata": {
        "colab": {
          "base_uri": "https://localhost:8080/"
        },
        "id": "miqk_fY6WzqT",
        "outputId": "1962ee45-2be1-41f2-8b7f-c9887e4d0a65"
      },
      "execution_count": 27,
      "outputs": [
        {
          "output_type": "execute_result",
          "data": {
            "text/plain": [
              "(1133, 145)"
            ]
          },
          "metadata": {},
          "execution_count": 27
        }
      ]
    },
    {
      "cell_type": "code",
      "source": [
        "data.columns"
      ],
      "metadata": {
        "colab": {
          "base_uri": "https://localhost:8080/"
        },
        "id": "TSw7PZF9Wzs0",
        "outputId": "73ae07d6-f14f-4da6-b509-0ad00074af30"
      },
      "execution_count": 28,
      "outputs": [
        {
          "output_type": "execute_result",
          "data": {
            "text/plain": [
              "MultiIndex([( 'Close', 'AAPL'),\n",
              "            ( 'Close', 'AMGN'),\n",
              "            ( 'Close',  'AXP'),\n",
              "            ( 'Close',   'BA'),\n",
              "            ( 'Close',  'CAT'),\n",
              "            ( 'Close',  'CRM'),\n",
              "            ( 'Close', 'CSCO'),\n",
              "            ( 'Close',  'CVX'),\n",
              "            ( 'Close',  'DIS'),\n",
              "            ( 'Close',   'GS'),\n",
              "            ...\n",
              "            ('Volume',  'MRK'),\n",
              "            ('Volume', 'MSFT'),\n",
              "            ('Volume',  'NKE'),\n",
              "            ('Volume',   'PG'),\n",
              "            ('Volume',  'TRV'),\n",
              "            ('Volume',  'UNH'),\n",
              "            ('Volume',    'V'),\n",
              "            ('Volume',   'VZ'),\n",
              "            ('Volume',  'WBA'),\n",
              "            ('Volume',  'WMT')],\n",
              "           names=['Attributes', 'Symbols'], length=145)"
            ]
          },
          "metadata": {},
          "execution_count": 28
        }
      ]
    },
    {
      "cell_type": "code",
      "source": [
        "for col in data.columns:\n",
        "  print(\"COL : {}\".format(col))"
      ],
      "metadata": {
        "colab": {
          "base_uri": "https://localhost:8080/"
        },
        "id": "u1hwCWmKWzuk",
        "outputId": "7ecb4aa7-21b8-41f6-a171-1d62c0982e6c"
      },
      "execution_count": 29,
      "outputs": [
        {
          "output_type": "stream",
          "name": "stdout",
          "text": [
            "COL : ('Close', 'AAPL')\n",
            "COL : ('Close', 'AMGN')\n",
            "COL : ('Close', 'AXP')\n",
            "COL : ('Close', 'BA')\n",
            "COL : ('Close', 'CAT')\n",
            "COL : ('Close', 'CRM')\n",
            "COL : ('Close', 'CSCO')\n",
            "COL : ('Close', 'CVX')\n",
            "COL : ('Close', 'DIS')\n",
            "COL : ('Close', 'GS')\n",
            "COL : ('Close', 'HD')\n",
            "COL : ('Close', 'HON')\n",
            "COL : ('Close', 'IBM')\n",
            "COL : ('Close', 'INTC')\n",
            "COL : ('Close', 'JNJ')\n",
            "COL : ('Close', 'JPM')\n",
            "COL : ('Close', 'KO')\n",
            "COL : ('Close', 'MCD')\n",
            "COL : ('Close', 'MMM')\n",
            "COL : ('Close', 'MRK')\n",
            "COL : ('Close', 'MSFT')\n",
            "COL : ('Close', 'NKE')\n",
            "COL : ('Close', 'PG')\n",
            "COL : ('Close', 'TRV')\n",
            "COL : ('Close', 'UNH')\n",
            "COL : ('Close', 'V')\n",
            "COL : ('Close', 'VZ')\n",
            "COL : ('Close', 'WBA')\n",
            "COL : ('Close', 'WMT')\n",
            "COL : ('High', 'AAPL')\n",
            "COL : ('High', 'AMGN')\n",
            "COL : ('High', 'AXP')\n",
            "COL : ('High', 'BA')\n",
            "COL : ('High', 'CAT')\n",
            "COL : ('High', 'CRM')\n",
            "COL : ('High', 'CSCO')\n",
            "COL : ('High', 'CVX')\n",
            "COL : ('High', 'DIS')\n",
            "COL : ('High', 'GS')\n",
            "COL : ('High', 'HD')\n",
            "COL : ('High', 'HON')\n",
            "COL : ('High', 'IBM')\n",
            "COL : ('High', 'INTC')\n",
            "COL : ('High', 'JNJ')\n",
            "COL : ('High', 'JPM')\n",
            "COL : ('High', 'KO')\n",
            "COL : ('High', 'MCD')\n",
            "COL : ('High', 'MMM')\n",
            "COL : ('High', 'MRK')\n",
            "COL : ('High', 'MSFT')\n",
            "COL : ('High', 'NKE')\n",
            "COL : ('High', 'PG')\n",
            "COL : ('High', 'TRV')\n",
            "COL : ('High', 'UNH')\n",
            "COL : ('High', 'V')\n",
            "COL : ('High', 'VZ')\n",
            "COL : ('High', 'WBA')\n",
            "COL : ('High', 'WMT')\n",
            "COL : ('Low', 'AAPL')\n",
            "COL : ('Low', 'AMGN')\n",
            "COL : ('Low', 'AXP')\n",
            "COL : ('Low', 'BA')\n",
            "COL : ('Low', 'CAT')\n",
            "COL : ('Low', 'CRM')\n",
            "COL : ('Low', 'CSCO')\n",
            "COL : ('Low', 'CVX')\n",
            "COL : ('Low', 'DIS')\n",
            "COL : ('Low', 'GS')\n",
            "COL : ('Low', 'HD')\n",
            "COL : ('Low', 'HON')\n",
            "COL : ('Low', 'IBM')\n",
            "COL : ('Low', 'INTC')\n",
            "COL : ('Low', 'JNJ')\n",
            "COL : ('Low', 'JPM')\n",
            "COL : ('Low', 'KO')\n",
            "COL : ('Low', 'MCD')\n",
            "COL : ('Low', 'MMM')\n",
            "COL : ('Low', 'MRK')\n",
            "COL : ('Low', 'MSFT')\n",
            "COL : ('Low', 'NKE')\n",
            "COL : ('Low', 'PG')\n",
            "COL : ('Low', 'TRV')\n",
            "COL : ('Low', 'UNH')\n",
            "COL : ('Low', 'V')\n",
            "COL : ('Low', 'VZ')\n",
            "COL : ('Low', 'WBA')\n",
            "COL : ('Low', 'WMT')\n",
            "COL : ('Open', 'AAPL')\n",
            "COL : ('Open', 'AMGN')\n",
            "COL : ('Open', 'AXP')\n",
            "COL : ('Open', 'BA')\n",
            "COL : ('Open', 'CAT')\n",
            "COL : ('Open', 'CRM')\n",
            "COL : ('Open', 'CSCO')\n",
            "COL : ('Open', 'CVX')\n",
            "COL : ('Open', 'DIS')\n",
            "COL : ('Open', 'GS')\n",
            "COL : ('Open', 'HD')\n",
            "COL : ('Open', 'HON')\n",
            "COL : ('Open', 'IBM')\n",
            "COL : ('Open', 'INTC')\n",
            "COL : ('Open', 'JNJ')\n",
            "COL : ('Open', 'JPM')\n",
            "COL : ('Open', 'KO')\n",
            "COL : ('Open', 'MCD')\n",
            "COL : ('Open', 'MMM')\n",
            "COL : ('Open', 'MRK')\n",
            "COL : ('Open', 'MSFT')\n",
            "COL : ('Open', 'NKE')\n",
            "COL : ('Open', 'PG')\n",
            "COL : ('Open', 'TRV')\n",
            "COL : ('Open', 'UNH')\n",
            "COL : ('Open', 'V')\n",
            "COL : ('Open', 'VZ')\n",
            "COL : ('Open', 'WBA')\n",
            "COL : ('Open', 'WMT')\n",
            "COL : ('Volume', 'AAPL')\n",
            "COL : ('Volume', 'AMGN')\n",
            "COL : ('Volume', 'AXP')\n",
            "COL : ('Volume', 'BA')\n",
            "COL : ('Volume', 'CAT')\n",
            "COL : ('Volume', 'CRM')\n",
            "COL : ('Volume', 'CSCO')\n",
            "COL : ('Volume', 'CVX')\n",
            "COL : ('Volume', 'DIS')\n",
            "COL : ('Volume', 'GS')\n",
            "COL : ('Volume', 'HD')\n",
            "COL : ('Volume', 'HON')\n",
            "COL : ('Volume', 'IBM')\n",
            "COL : ('Volume', 'INTC')\n",
            "COL : ('Volume', 'JNJ')\n",
            "COL : ('Volume', 'JPM')\n",
            "COL : ('Volume', 'KO')\n",
            "COL : ('Volume', 'MCD')\n",
            "COL : ('Volume', 'MMM')\n",
            "COL : ('Volume', 'MRK')\n",
            "COL : ('Volume', 'MSFT')\n",
            "COL : ('Volume', 'NKE')\n",
            "COL : ('Volume', 'PG')\n",
            "COL : ('Volume', 'TRV')\n",
            "COL : ('Volume', 'UNH')\n",
            "COL : ('Volume', 'V')\n",
            "COL : ('Volume', 'VZ')\n",
            "COL : ('Volume', 'WBA')\n",
            "COL : ('Volume', 'WMT')\n"
          ]
        }
      ]
    },
    {
      "cell_type": "code",
      "source": [
        "import matplotlib.pyplot as plt\n",
        "import seaborn as sns"
      ],
      "metadata": {
        "id": "t_yRc_wtZ7mb"
      },
      "execution_count": 30,
      "outputs": []
    },
    {
      "cell_type": "code",
      "source": [
        "%matplotlib inline"
      ],
      "metadata": {
        "id": "iie9WoXBZ7on"
      },
      "execution_count": 31,
      "outputs": []
    },
    {
      "cell_type": "code",
      "source": [
        "plt.figure(figsize=(15, 12))\n",
        "sns.heatmap(data.isnull())"
      ],
      "metadata": {
        "colab": {
          "base_uri": "https://localhost:8080/",
          "height": 797
        },
        "id": "ki6kyZ_mZ7qt",
        "outputId": "7f6290f4-3605-4d5d-c8b8-ad51e82f382e"
      },
      "execution_count": 32,
      "outputs": [
        {
          "output_type": "execute_result",
          "data": {
            "text/plain": [
              "<matplotlib.axes._subplots.AxesSubplot at 0x7ff16fc70ca0>"
            ]
          },
          "metadata": {},
          "execution_count": 32
        },
        {
          "output_type": "display_data",
          "data": {
            "text/plain": [
              "<Figure size 1080x864 with 2 Axes>"
            ],
            "image/png": "[encoded data removed]"
          },
          "metadata": {
            "needs_background": "light"
          }
        }
      ]
    },
    {
      "cell_type": "code",
      "source": [
        "data.isnull().value_counts()"
      ],
      "metadata": {
        "colab": {
          "base_uri": "https://localhost:8080/"
        },
        "id": "Av4h2QIiZ7s8",
        "outputId": "9d34286c-15ff-40b8-a6eb-5ce0c969d948"
      },
      "execution_count": 33,
      "outputs": [
        {
          "output_type": "execute_result",
          "data": {
            "text/plain": [
              "(Close, AAPL)  (Close, AMGN)  (Close, AXP)  (Close, BA)  (Close, CAT)  (Close, CRM)  (Close, CSCO)  (Close, CVX)  (Close, DIS)  (Close, GS)  (Close, HD)  (Close, HON)  (Close, IBM)  (Close, INTC)  (Close, JNJ)  (Close, JPM)  (Close, KO)  (Close, MCD)  (Close, MMM)  (Close, MRK)  (Close, MSFT)  (Close, NKE)  (Close, PG)  (Close, TRV)  (Close, UNH)  (Close, V)  (Close, VZ)  (Close, WBA)  (Close, WMT)  (High, AAPL)  (High, AMGN)  (High, AXP)  (High, BA)  (High, CAT)  (High, CRM)  (High, CSCO)  (High, CVX)  (High, DIS)  (High, GS)  (High, HD)  (High, HON)  (High, IBM)  (High, INTC)  (High, JNJ)  (High, JPM)  (High, KO)  (High, MCD)  (High, MMM)  (High, MRK)  (High, MSFT)  (High, NKE)  (High, PG)  (High, TRV)  (High, UNH)  (High, V)  (High, VZ)  (High, WBA)  (High, WMT)  (Low, AAPL)  (Low, AMGN)  (Low, AXP)  (Low, BA)  (Low, CAT)  (Low, CRM)  (Low, CSCO)  (Low, CVX)  (Low, DIS)  (Low, GS)  (Low, HD)  (Low, HON)  (Low, IBM)  (Low, INTC)  (Low, JNJ)  (Low, JPM)  (Low, KO)  (Low, MCD)  (Low, MMM)  (Low, MRK)  (Low, MSFT)  (Low, NKE)  (Low, PG)  (Low, TRV)  (Low, UNH)  (Low, V)  (Low, VZ)  (Low, WBA)  (Low, WMT)  (Open, AAPL)  (Open, AMGN)  (Open, AXP)  (Open, BA)  (Open, CAT)  (Open, CRM)  (Open, CSCO)  (Open, CVX)  (Open, DIS)  (Open, GS)  (Open, HD)  (Open, HON)  (Open, IBM)  (Open, INTC)  (Open, JNJ)  (Open, JPM)  (Open, KO)  (Open, MCD)  (Open, MMM)  (Open, MRK)  (Open, MSFT)  (Open, NKE)  (Open, PG)  (Open, TRV)  (Open, UNH)  (Open, V)  (Open, VZ)  (Open, WBA)  (Open, WMT)  (Volume, AAPL)  (Volume, AMGN)  (Volume, AXP)  (Volume, BA)  (Volume, CAT)  (Volume, CRM)  (Volume, CSCO)  (Volume, CVX)  (Volume, DIS)  (Volume, GS)  (Volume, HD)  (Volume, HON)  (Volume, IBM)  (Volume, INTC)  (Volume, JNJ)  (Volume, JPM)  (Volume, KO)  (Volume, MCD)  (Volume, MMM)  (Volume, MRK)  (Volume, MSFT)  (Volume, NKE)  (Volume, PG)  (Volume, TRV)  (Volume, UNH)  (Volume, V)  (Volume, VZ)  (Volume, WBA)  (Volume, WMT)\n",
              "False          False          False         False        False         False         False          False         False         False        False        False         False         False          False         False         False        False         False         False         False          False         False        False         False         False       False        False         False         False         False         False        False       False        False        False         False        False        False       False       False        False        False         False        False        False       False        False        False        False         False        False       False        False        False      False       False        False        False        False        False       False      False       False       False        False       False       False      False      False       False       False        False       False       False      False       False       False       False        False       False      False       False       False     False      False       False       False         False         False        False       False        False        False         False        False        False       False       False        False        False         False        False        False       False        False        False        False         False        False       False        False        False      False       False        False        False           False           False          False         False          False          False           False          False          False         False         False          False          False           False          False          False         False          False          False          False           False          False         False          False          False        False         False          False            1133\n",
              "dtype: int64"
            ]
          },
          "metadata": {},
          "execution_count": 33
        }
      ]
    },
    {
      "cell_type": "code",
      "source": [
        "# DOW has no data from 2017 to 2019, so dropping all the columns that has DOW in it"
      ],
      "metadata": {
        "id": "rjX55Htfe9W2"
      },
      "execution_count": 34,
      "outputs": []
    },
    {
      "cell_type": "code",
      "source": [
        "col_to_drop = [col for col in data.columns if str(col[1]).endswith(\"DOW\")]"
      ],
      "metadata": {
        "id": "hLeLRDvXe9ZJ"
      },
      "execution_count": 35,
      "outputs": []
    },
    {
      "cell_type": "code",
      "source": [
        "data.drop(col_to_drop, axis=1, inplace=True)"
      ],
      "metadata": {
        "id": "1PVZZvYWe9bU"
      },
      "execution_count": 36,
      "outputs": []
    },
    {
      "cell_type": "code",
      "source": [
        "data"
      ],
      "metadata": {
        "colab": {
          "base_uri": "https://localhost:8080/",
          "height": 486
        },
        "id": "8blmkO60fvTr",
        "outputId": "56b8d4ec-320c-4cc7-c56c-aa08d61da4f5"
      },
      "execution_count": 37,
      "outputs": [
        {
          "output_type": "execute_result",
          "data": {
            "text/plain": [
              "Attributes     Close                                                        \\\n",
              "Symbols         AAPL     AMGN       AXP      BA       CAT     CRM     CSCO   \n",
              "Date                                                                         \n",
              "2021-09-30  140.4720  204.425  164.9700  219.94  186.5340  271.22  52.4189   \n",
              "2021-09-29  141.7980  206.587  168.9200  225.36  192.2660  270.50  53.4303   \n",
              "2021-09-28  140.8800  204.054  170.4980  218.41  194.8700  272.28  53.4686   \n",
              "2021-09-27  144.3300  204.866  174.0720  224.16  194.3370  279.68  54.1433   \n",
              "2021-09-24  145.8650  205.345  173.0390  221.39  191.2390  285.63  54.6342   \n",
              "...              ...      ...       ...     ...       ...     ...      ...   \n",
              "2017-04-07   33.6782  138.031   71.8766  167.25   82.6229   84.38  27.8277   \n",
              "2017-04-06   33.7550  137.082   72.0146  165.84   82.8813   85.00  27.9279   \n",
              "2017-04-05   33.8428  137.073   71.8667  165.58   81.5141   85.34  27.8601   \n",
              "2017-04-04   34.0183  138.891   72.0334  167.11   81.4183   82.97  28.2058   \n",
              "2017-04-03   33.7650  138.470   72.3382  165.18   79.8124   82.31  28.1046   \n",
              "\n",
              "Attributes                            ...        Volume                \\\n",
              "Symbols         CVX     DIS       GS  ...           MRK          MSFT   \n",
              "Date                                  ...                               \n",
              "2021-09-30  96.8030  169.17  366.387  ...  1.693280e+07  3.270643e+07   \n",
              "2021-09-29  98.5995  172.68  373.032  ...  1.672781e+07  2.664930e+07   \n",
              "2021-09-28  98.6290  174.52  377.500  ...  1.233256e+07  4.367065e+07   \n",
              "2021-09-27  98.2485  178.26  387.487  ...  8.992508e+06  2.383614e+07   \n",
              "2021-09-24  95.9934  176.00  378.804  ...  1.533176e+07  1.516722e+07   \n",
              "...             ...     ...      ...  ...           ...           ...   \n",
              "2017-04-07  84.8967  107.81  203.897  ...  9.231203e+06  1.522397e+07   \n",
              "2017-04-06  85.2136  108.26  204.563  ...  9.029881e+06  1.879631e+07   \n",
              "2017-04-05  84.7270  108.21  203.701  ...  9.213565e+06  2.221353e+07   \n",
              "2017-04-04  84.7436  108.25  205.132  ...  7.586754e+06  1.363509e+07   \n",
              "2017-04-03  84.0608  108.39  204.848  ...  7.942998e+06  2.201379e+07   \n",
              "\n",
              "Attributes                                                          \\\n",
              "Symbols              NKE            PG           TRV           UNH   \n",
              "Date                                                                 \n",
              "2021-09-30  1.026321e+07  7.152903e+06  1.125171e+06  3.840874e+06   \n",
              "2021-09-29  7.892834e+06  5.630186e+06  8.801865e+05  2.089643e+06   \n",
              "2021-09-28  1.082659e+07  7.234038e+06  9.772446e+05  3.165543e+06   \n",
              "2021-09-27  1.162345e+07  5.929096e+06  1.136483e+06  2.650620e+06   \n",
              "2021-09-24  2.725135e+07  5.165547e+06  8.563942e+05  1.981827e+06   \n",
              "...                  ...           ...           ...           ...   \n",
              "2017-04-07  6.451034e+06  5.557349e+06  1.216060e+06  3.186123e+06   \n",
              "2017-04-06  7.102519e+06  8.480183e+06  1.402306e+06  3.181659e+06   \n",
              "2017-04-05  8.186966e+06  7.401808e+06  1.468795e+06  3.853713e+06   \n",
              "2017-04-04  9.385378e+06  6.661367e+06  1.031115e+06  3.140300e+06   \n",
              "2017-04-03  7.523017e+06  8.170534e+06  1.298282e+06  3.779832e+06   \n",
              "\n",
              "Attributes                                                          \n",
              "Symbols                V            VZ           WBA           WMT  \n",
              "Date                                                                \n",
              "2021-09-30  7.200826e+06  2.000450e+07  6.816348e+06  7.638608e+06  \n",
              "2021-09-29  6.492751e+06  1.581965e+07  5.882077e+06  7.266305e+06  \n",
              "2021-09-28  7.016277e+06  2.084130e+07  6.679854e+06  6.996149e+06  \n",
              "2021-09-27  6.945324e+06  1.400030e+07  7.065684e+06  7.223872e+06  \n",
              "2021-09-24  6.521581e+06  1.351545e+07  3.652097e+06  4.541760e+06  \n",
              "...                  ...           ...           ...           ...  \n",
              "2017-04-07  5.650643e+06  2.223821e+07  6.781909e+06  1.201536e+07  \n",
              "2017-04-06  8.796073e+06  2.376422e+07  5.522658e+06  6.628523e+06  \n",
              "2017-04-05  7.528862e+06  1.863601e+07  1.444369e+07  7.085069e+06  \n",
              "2017-04-04  5.048579e+06  1.166582e+07  3.826721e+06  6.211782e+06  \n",
              "2017-04-03  9.479984e+06  1.864316e+07  3.993671e+06  9.251999e+06  \n",
              "\n",
              "[1133 rows x 145 columns]"
            ],
            "text/html": [
              "\n",
              "  <div id=\"df-42061aa6-fd86-4069-b40e-05b5f1390d86\">\n",
              "    <div class=\"colab-df-container\">\n",
              "      <div>\n",
              "<style scoped>\n",
              "    .dataframe tbody tr th:only-of-type {\n",
              "        vertical-align: middle;\n",
              "    }\n",
              "\n",
              "    .dataframe tbody tr th {\n",
              "        vertical-align: top;\n",
              "    }\n",
              "\n",
              "    .dataframe thead tr th {\n",
              "        text-align: left;\n",
              "    }\n",
              "\n",
              "    .dataframe thead tr:last-of-type th {\n",
              "        text-align: right;\n",
              "    }\n",
              "</style>\n",
              "<table border=\"1\" class=\"dataframe\">\n",
              "  <thead>\n",
              "    <tr>\n",
              "      <th>Attributes</th>\n",
              "      <th colspan=\"10\" halign=\"left\">Close</th>\n",
              "      <th>...</th>\n",
              "      <th colspan=\"10\" halign=\"left\">Volume</th>\n",
              "    </tr>\n",
              "    <tr>\n",
              "      <th>Symbols</th>\n",
              "      <th>AAPL</th>\n",
              "      <th>AMGN</th>\n",
              "      <th>AXP</th>\n",
              "      <th>BA</th>\n",
              "      <th>CAT</th>\n",
              "      <th>CRM</th>\n",
              "      <th>CSCO</th>\n",
              "      <th>CVX</th>\n",
              "      <th>DIS</th>\n",
              "      <th>GS</th>\n",
              "      <th>...</th>\n",
              "      <th>MRK</th>\n",
              "      <th>MSFT</th>\n",
              "      <th>NKE</th>\n",
              "      <th>PG</th>\n",
              "      <th>TRV</th>\n",
              "      <th>UNH</th>\n",
              "      <th>V</th>\n",
              "      <th>VZ</th>\n",
              "      <th>WBA</th>\n",
              "      <th>WMT</th>\n",
              "    </tr>\n",
              "    <tr>\n",
              "      <th>Date</th>\n",
              "      <th></th>\n",
              "      <th></th>\n",
              "      <th></th>\n",
              "      <th></th>\n",
              "      <th></th>\n",
              "      <th></th>\n",
              "      <th></th>\n",
              "      <th></th>\n",
              "      <th></th>\n",
              "      <th></th>\n",
              "      <th></th>\n",
              "      <th></th>\n",
              "      <th></th>\n",
              "      <th></th>\n",
              "      <th></th>\n",
              "      <th></th>\n",
              "      <th></th>\n",
              "      <th></th>\n",
              "      <th></th>\n",
              "      <th></th>\n",
              "      <th></th>\n",
              "    </tr>\n",
              "  </thead>\n",
              "  <tbody>\n",
              "    <tr>\n",
              "      <th>2021-09-30</th>\n",
              "      <td>140.4720</td>\n",
              "      <td>204.425</td>\n",
              "      <td>164.9700</td>\n",
              "      <td>219.94</td>\n",
              "      <td>186.5340</td>\n",
              "      <td>271.22</td>\n",
              "      <td>52.4189</td>\n",
              "      <td>96.8030</td>\n",
              "      <td>169.17</td>\n",
              "      <td>366.387</td>\n",
              "      <td>...</td>\n",
              "      <td>1.693280e+07</td>\n",
              "      <td>3.270643e+07</td>\n",
              "      <td>1.026321e+07</td>\n",
              "      <td>7.152903e+06</td>\n",
              "      <td>1.125171e+06</td>\n",
              "      <td>3.840874e+06</td>\n",
              "      <td>7.200826e+06</td>\n",
              "      <td>2.000450e+07</td>\n",
              "      <td>6.816348e+06</td>\n",
              "      <td>7.638608e+06</td>\n",
              "    </tr>\n",
              "    <tr>\n",
              "      <th>2021-09-29</th>\n",
              "      <td>141.7980</td>\n",
              "      <td>206.587</td>\n",
              "      <td>168.9200</td>\n",
              "      <td>225.36</td>\n",
              "      <td>192.2660</td>\n",
              "      <td>270.50</td>\n",
              "      <td>53.4303</td>\n",
              "      <td>98.5995</td>\n",
              "      <td>172.68</td>\n",
              "      <td>373.032</td>\n",
              "      <td>...</td>\n",
              "      <td>1.672781e+07</td>\n",
              "      <td>2.664930e+07</td>\n",
              "      <td>7.892834e+06</td>\n",
              "      <td>5.630186e+06</td>\n",
              "      <td>8.801865e+05</td>\n",
              "      <td>2.089643e+06</td>\n",
              "      <td>6.492751e+06</td>\n",
              "      <td>1.581965e+07</td>\n",
              "      <td>5.882077e+06</td>\n",
              "      <td>7.266305e+06</td>\n",
              "    </tr>\n",
              "    <tr>\n",
              "      <th>2021-09-28</th>\n",
              "      <td>140.8800</td>\n",
              "      <td>204.054</td>\n",
              "      <td>170.4980</td>\n",
              "      <td>218.41</td>\n",
              "      <td>194.8700</td>\n",
              "      <td>272.28</td>\n",
              "      <td>53.4686</td>\n",
              "      <td>98.6290</td>\n",
              "      <td>174.52</td>\n",
              "      <td>377.500</td>\n",
              "      <td>...</td>\n",
              "      <td>1.233256e+07</td>\n",
              "      <td>4.367065e+07</td>\n",
              "      <td>1.082659e+07</td>\n",
              "      <td>7.234038e+06</td>\n",
              "      <td>9.772446e+05</td>\n",
              "      <td>3.165543e+06</td>\n",
              "      <td>7.016277e+06</td>\n",
              "      <td>2.084130e+07</td>\n",
              "      <td>6.679854e+06</td>\n",
              "      <td>6.996149e+06</td>\n",
              "    </tr>\n",
              "    <tr>\n",
              "      <th>2021-09-27</th>\n",
              "      <td>144.3300</td>\n",
              "      <td>204.866</td>\n",
              "      <td>174.0720</td>\n",
              "      <td>224.16</td>\n",
              "      <td>194.3370</td>\n",
              "      <td>279.68</td>\n",
              "      <td>54.1433</td>\n",
              "      <td>98.2485</td>\n",
              "      <td>178.26</td>\n",
              "      <td>387.487</td>\n",
              "      <td>...</td>\n",
              "      <td>8.992508e+06</td>\n",
              "      <td>2.383614e+07</td>\n",
              "      <td>1.162345e+07</td>\n",
              "      <td>5.929096e+06</td>\n",
              "      <td>1.136483e+06</td>\n",
              "      <td>2.650620e+06</td>\n",
              "      <td>6.945324e+06</td>\n",
              "      <td>1.400030e+07</td>\n",
              "      <td>7.065684e+06</td>\n",
              "      <td>7.223872e+06</td>\n",
              "    </tr>\n",
              "    <tr>\n",
              "      <th>2021-09-24</th>\n",
              "      <td>145.8650</td>\n",
              "      <td>205.345</td>\n",
              "      <td>173.0390</td>\n",
              "      <td>221.39</td>\n",
              "      <td>191.2390</td>\n",
              "      <td>285.63</td>\n",
              "      <td>54.6342</td>\n",
              "      <td>95.9934</td>\n",
              "      <td>176.00</td>\n",
              "      <td>378.804</td>\n",
              "      <td>...</td>\n",
              "      <td>1.533176e+07</td>\n",
              "      <td>1.516722e+07</td>\n",
              "      <td>2.725135e+07</td>\n",
              "      <td>5.165547e+06</td>\n",
              "      <td>8.563942e+05</td>\n",
              "      <td>1.981827e+06</td>\n",
              "      <td>6.521581e+06</td>\n",
              "      <td>1.351545e+07</td>\n",
              "      <td>3.652097e+06</td>\n",
              "      <td>4.541760e+06</td>\n",
              "    </tr>\n",
              "    <tr>\n",
              "      <th>...</th>\n",
              "      <td>...</td>\n",
              "      <td>...</td>\n",
              "      <td>...</td>\n",
              "      <td>...</td>\n",
              "      <td>...</td>\n",
              "      <td>...</td>\n",
              "      <td>...</td>\n",
              "      <td>...</td>\n",
              "      <td>...</td>\n",
              "      <td>...</td>\n",
              "      <td>...</td>\n",
              "      <td>...</td>\n",
              "      <td>...</td>\n",
              "      <td>...</td>\n",
              "      <td>...</td>\n",
              "      <td>...</td>\n",
              "      <td>...</td>\n",
              "      <td>...</td>\n",
              "      <td>...</td>\n",
              "      <td>...</td>\n",
              "      <td>...</td>\n",
              "    </tr>\n",
              "    <tr>\n",
              "      <th>2017-04-07</th>\n",
              "      <td>33.6782</td>\n",
              "      <td>138.031</td>\n",
              "      <td>71.8766</td>\n",
              "      <td>167.25</td>\n",
              "      <td>82.6229</td>\n",
              "      <td>84.38</td>\n",
              "      <td>27.8277</td>\n",
              "      <td>84.8967</td>\n",
              "      <td>107.81</td>\n",
              "      <td>203.897</td>\n",
              "      <td>...</td>\n",
              "      <td>9.231203e+06</td>\n",
              "      <td>1.522397e+07</td>\n",
              "      <td>6.451034e+06</td>\n",
              "      <td>5.557349e+06</td>\n",
              "      <td>1.216060e+06</td>\n",
              "      <td>3.186123e+06</td>\n",
              "      <td>5.650643e+06</td>\n",
              "      <td>2.223821e+07</td>\n",
              "      <td>6.781909e+06</td>\n",
              "      <td>1.201536e+07</td>\n",
              "    </tr>\n",
              "    <tr>\n",
              "      <th>2017-04-06</th>\n",
              "      <td>33.7550</td>\n",
              "      <td>137.082</td>\n",
              "      <td>72.0146</td>\n",
              "      <td>165.84</td>\n",
              "      <td>82.8813</td>\n",
              "      <td>85.00</td>\n",
              "      <td>27.9279</td>\n",
              "      <td>85.2136</td>\n",
              "      <td>108.26</td>\n",
              "      <td>204.563</td>\n",
              "      <td>...</td>\n",
              "      <td>9.029881e+06</td>\n",
              "      <td>1.879631e+07</td>\n",
              "      <td>7.102519e+06</td>\n",
              "      <td>8.480183e+06</td>\n",
              "      <td>1.402306e+06</td>\n",
              "      <td>3.181659e+06</td>\n",
              "      <td>8.796073e+06</td>\n",
              "      <td>2.376422e+07</td>\n",
              "      <td>5.522658e+06</td>\n",
              "      <td>6.628523e+06</td>\n",
              "    </tr>\n",
              "    <tr>\n",
              "      <th>2017-04-05</th>\n",
              "      <td>33.8428</td>\n",
              "      <td>137.073</td>\n",
              "      <td>71.8667</td>\n",
              "      <td>165.58</td>\n",
              "      <td>81.5141</td>\n",
              "      <td>85.34</td>\n",
              "      <td>27.8601</td>\n",
              "      <td>84.7270</td>\n",
              "      <td>108.21</td>\n",
              "      <td>203.701</td>\n",
              "      <td>...</td>\n",
              "      <td>9.213565e+06</td>\n",
              "      <td>2.221353e+07</td>\n",
              "      <td>8.186966e+06</td>\n",
              "      <td>7.401808e+06</td>\n",
              "      <td>1.468795e+06</td>\n",
              "      <td>3.853713e+06</td>\n",
              "      <td>7.528862e+06</td>\n",
              "      <td>1.863601e+07</td>\n",
              "      <td>1.444369e+07</td>\n",
              "      <td>7.085069e+06</td>\n",
              "    </tr>\n",
              "    <tr>\n",
              "      <th>2017-04-04</th>\n",
              "      <td>34.0183</td>\n",
              "      <td>138.891</td>\n",
              "      <td>72.0334</td>\n",
              "      <td>167.11</td>\n",
              "      <td>81.4183</td>\n",
              "      <td>82.97</td>\n",
              "      <td>28.2058</td>\n",
              "      <td>84.7436</td>\n",
              "      <td>108.25</td>\n",
              "      <td>205.132</td>\n",
              "      <td>...</td>\n",
              "      <td>7.586754e+06</td>\n",
              "      <td>1.363509e+07</td>\n",
              "      <td>9.385378e+06</td>\n",
              "      <td>6.661367e+06</td>\n",
              "      <td>1.031115e+06</td>\n",
              "      <td>3.140300e+06</td>\n",
              "      <td>5.048579e+06</td>\n",
              "      <td>1.166582e+07</td>\n",
              "      <td>3.826721e+06</td>\n",
              "      <td>6.211782e+06</td>\n",
              "    </tr>\n",
              "    <tr>\n",
              "      <th>2017-04-03</th>\n",
              "      <td>33.7650</td>\n",
              "      <td>138.470</td>\n",
              "      <td>72.3382</td>\n",
              "      <td>165.18</td>\n",
              "      <td>79.8124</td>\n",
              "      <td>82.31</td>\n",
              "      <td>28.1046</td>\n",
              "      <td>84.0608</td>\n",
              "      <td>108.39</td>\n",
              "      <td>204.848</td>\n",
              "      <td>...</td>\n",
              "      <td>7.942998e+06</td>\n",
              "      <td>2.201379e+07</td>\n",
              "      <td>7.523017e+06</td>\n",
              "      <td>8.170534e+06</td>\n",
              "      <td>1.298282e+06</td>\n",
              "      <td>3.779832e+06</td>\n",
              "      <td>9.479984e+06</td>\n",
              "      <td>1.864316e+07</td>\n",
              "      <td>3.993671e+06</td>\n",
              "      <td>9.251999e+06</td>\n",
              "    </tr>\n",
              "  </tbody>\n",
              "</table>\n",
              "<p>1133 rows × 145 columns</p>\n",
              "</div>\n",
              "      <button class=\"colab-df-convert\" onclick=\"convertToInteractive('df-42061aa6-fd86-4069-b40e-05b5f1390d86')\"\n",
              "              title=\"Convert this dataframe to an interactive table.\"\n",
              "              style=\"display:none;\">\n",
              "        \n",
              "  <svg xmlns=\"http://www.w3.org/2000/svg\" height=\"24px\"viewBox=\"0 0 24 24\"\n",
              "       width=\"24px\">\n",
              "    <path d=\"M0 0h24v24H0V0z\" fill=\"none\"/>\n",
              "    <path d=\"M18.56 5.44l.94 2.06.94-2.06 2.06-.94-2.06-.94-.94-2.06-.94 2.06-2.06.94zm-11 1L8.5 8.5l.94-2.06 2.06-.94-2.06-.94L8.5 2.5l-.94 2.06-2.06.94zm10 10l.94 2.06.94-2.06 2.06-.94-2.06-.94-.94-2.06-.94 2.06-2.06.94z\"/><path d=\"M17.41 7.96l-1.37-1.37c-.4-.4-.92-.59-1.43-.59-.52 0-1.04.2-1.43.59L10.3 9.45l-7.72 7.72c-.78.78-.78 2.05 0 2.83L4 21.41c.39.39.9.59 1.41.59.51 0 1.02-.2 1.41-.59l7.78-7.78 2.81-2.81c.8-.78.8-2.07 0-2.86zM5.41 20L4 18.59l7.72-7.72 1.47 1.35L5.41 20z\"/>\n",
              "  </svg>\n",
              "      </button>\n",
              "      \n",
              "  <style>\n",
              "    .colab-df-container {\n",
              "      display:flex;\n",
              "      flex-wrap:wrap;\n",
              "      gap: 12px;\n",
              "    }\n",
              "\n",
              "    .colab-df-convert {\n",
              "      background-color: #E8F0FE;\n",
              "      border: none;\n",
              "      border-radius: 50%;\n",
              "      cursor: pointer;\n",
              "      display: none;\n",
              "      fill: #1967D2;\n",
              "      height: 32px;\n",
              "      padding: 0 0 0 0;\n",
              "      width: 32px;\n",
              "    }\n",
              "\n",
              "    .colab-df-convert:hover {\n",
              "      background-color: #E2EBFA;\n",
              "      box-shadow: 0px 1px 2px rgba(60, 64, 67, 0.3), 0px 1px 3px 1px rgba(60, 64, 67, 0.15);\n",
              "      fill: #174EA6;\n",
              "    }\n",
              "\n",
              "    [theme=dark] .colab-df-convert {\n",
              "      background-color: #3B4455;\n",
              "      fill: #D2E3FC;\n",
              "    }\n",
              "\n",
              "    [theme=dark] .colab-df-convert:hover {\n",
              "      background-color: #434B5C;\n",
              "      box-shadow: 0px 1px 3px 1px rgba(0, 0, 0, 0.15);\n",
              "      filter: drop-shadow(0px 1px 2px rgba(0, 0, 0, 0.3));\n",
              "      fill: #FFFFFF;\n",
              "    }\n",
              "  </style>\n",
              "\n",
              "      <script>\n",
              "        const buttonEl =\n",
              "          document.querySelector('#df-42061aa6-fd86-4069-b40e-05b5f1390d86 button.colab-df-convert');\n",
              "        buttonEl.style.display =\n",
              "          google.colab.kernel.accessAllowed ? 'block' : 'none';\n",
              "\n",
              "        async function convertToInteractive(key) {\n",
              "          const element = document.querySelector('#df-42061aa6-fd86-4069-b40e-05b5f1390d86');\n",
              "          const dataTable =\n",
              "            await google.colab.kernel.invokeFunction('convertToInteractive',\n",
              "                                                     [key], {});\n",
              "          if (!dataTable) return;\n",
              "\n",
              "          const docLinkHtml = 'Like what you see? Visit the ' +\n",
              "            '<a target=\"_blank\" href=https://colab.research.google.com/notebooks/data_table.ipynb>data table notebook</a>'\n",
              "            + ' to learn more about interactive tables.';\n",
              "          element.innerHTML = '';\n",
              "          dataTable['output_type'] = 'display_data';\n",
              "          await google.colab.output.renderOutput(dataTable, element);\n",
              "          const docLink = document.createElement('div');\n",
              "          docLink.innerHTML = docLinkHtml;\n",
              "          element.appendChild(docLink);\n",
              "        }\n",
              "      </script>\n",
              "    </div>\n",
              "  </div>\n",
              "  "
            ]
          },
          "metadata": {},
          "execution_count": 37
        }
      ]
    },
    {
      "cell_type": "code",
      "source": [
        "plt.figure(figsize=(15, 12))\n",
        "sns.heatmap(data.isnull())"
      ],
      "metadata": {
        "colab": {
          "base_uri": "https://localhost:8080/",
          "height": 797
        },
        "id": "i9uc5AP1fvV7",
        "outputId": "76fbfb62-1117-421c-f989-467171931a5f"
      },
      "execution_count": 38,
      "outputs": [
        {
          "output_type": "execute_result",
          "data": {
            "text/plain": [
              "<matplotlib.axes._subplots.AxesSubplot at 0x7ff16d28acd0>"
            ]
          },
          "metadata": {},
          "execution_count": 38
        },
        {
          "output_type": "display_data",
          "data": {
            "text/plain": [
              "<Figure size 1080x864 with 2 Axes>"
            ],
            "image/png": "[encoded data removed]"
          },
          "metadata": {
            "needs_background": "light"
          }
        }
      ]
    },
    {
      "cell_type": "code",
      "source": [],
      "metadata": {
        "id": "4QumkEm1fvaX"
      },
      "execution_count": 38,
      "outputs": []
    },
    {
      "cell_type": "code",
      "source": [
        "open_values = np.array(data[\"Open\"].T)\n",
        "close_values = np.array(data[\"Close\"].T)"
      ],
      "metadata": {
        "id": "wsXZfd5KWzyg"
      },
      "execution_count": 39,
      "outputs": []
    },
    {
      "cell_type": "code",
      "source": [
        "open_values"
      ],
      "metadata": {
        "colab": {
          "base_uri": "https://localhost:8080/"
        },
        "id": "6Zx_oi9SWz0m",
        "outputId": "9776f01a-1112-4c87-ef37-cd19dc4ac5f1"
      },
      "execution_count": 40,
      "outputs": [
        {
          "output_type": "execute_result",
          "data": {
            "text/plain": [
              "array([[142.625 , 141.438 , 142.216 , ...,  33.8867,  33.6584,  33.767 ],\n",
              "       [207.437 , 204.28  , 204.083 , ..., 137.952 , 138.373 , 139.116 ],\n",
              "       [169.556 , 170.25  , 172.811 , ...,  72.5594,  72.2458,  72.871 ],\n",
              "       ...,\n",
              "       [ 51.0664,  50.6828,  51.0188, ...,  37.9324,  37.681 ,  37.3963],\n",
              "       [ 46.1896,  45.536 ,  46.123 , ...,  68.2267,  68.109 ,  68.5387],\n",
              "       [137.907 , 137.917 , 139.128 , ...,  64.2013,  64.2905,  64.5961]])"
            ]
          },
          "metadata": {},
          "execution_count": 40
        }
      ]
    },
    {
      "cell_type": "code",
      "source": [
        "daily_movements = close_values - open_values"
      ],
      "metadata": {
        "id": "1vt24bzgWz2p"
      },
      "execution_count": 41,
      "outputs": []
    },
    {
      "cell_type": "code",
      "source": [
        "daily_movements"
      ],
      "metadata": {
        "colab": {
          "base_uri": "https://localhost:8080/"
        },
        "id": "Lxsy1W5SWz46",
        "outputId": "ee07d3c9-6747-4bc9-d43f-8e28eb825705"
      },
      "execution_count": 42,
      "outputs": [
        {
          "output_type": "execute_result",
          "data": {
            "text/plain": [
              "array([[-2.1530e+00,  3.6000e-01, -1.3360e+00, ..., -4.3900e-02,\n",
              "         3.5990e-01, -2.0000e-03],\n",
              "       [-3.0120e+00,  2.3070e+00, -2.9000e-02, ..., -8.7900e-01,\n",
              "         5.1800e-01, -6.4600e-01],\n",
              "       [-4.5860e+00, -1.3300e+00, -2.3130e+00, ..., -6.9270e-01,\n",
              "        -2.1240e-01, -5.3280e-01],\n",
              "       ...,\n",
              "       [-4.5840e-01,  2.7100e-01, -2.7090e-01, ..., -3.1460e-01,\n",
              "         1.6210e-01,  3.4580e-01],\n",
              "       [-1.6470e+00,  5.7730e-01, -5.9670e-01, ..., -1.4867e+00,\n",
              "        -2.7700e-01, -3.3890e-01],\n",
              "       [-1.2300e+00, -1.9800e-01, -1.3490e+00, ...,  9.9000e-03,\n",
              "         2.4210e-01, -2.2420e-01]])"
            ]
          },
          "metadata": {},
          "execution_count": 42
        }
      ]
    },
    {
      "cell_type": "code",
      "source": [
        "clusters = 5\n",
        "normalizer = Normalizer()\n",
        "clustering_model = KMeans(n_clusters=clusters, max_iter=2000)"
      ],
      "metadata": {
        "id": "H9kAwHnEWz7D"
      },
      "execution_count": 43,
      "outputs": []
    },
    {
      "cell_type": "code",
      "source": [
        "pipeline = make_pipeline(normalizer, clustering_model)\n",
        "pipeline.fit(daily_movements)\n",
        "clusters = pipeline.predict(daily_movements)"
      ],
      "metadata": {
        "id": "JVCH7vZqWz9L"
      },
      "execution_count": 44,
      "outputs": []
    },
    {
      "cell_type": "code",
      "source": [
        "results = pd.DataFrame({\n",
        "    \"clusters\": clusters,\n",
        "    \"ticker\": list(companies_dow30)\n",
        "}).sort_values(by=[\"clusters\"], axis=0)"
      ],
      "metadata": {
        "id": "UPUTyRT0Wz_E"
      },
      "execution_count": 45,
      "outputs": []
    },
    {
      "cell_type": "code",
      "source": [
        "results"
      ],
      "metadata": {
        "colab": {
          "base_uri": "https://localhost:8080/",
          "height": 958
        },
        "id": "MAx43GpAW0BH",
        "outputId": "02fec9f0-8cdb-4825-d274-2338b9c157d2"
      },
      "execution_count": 46,
      "outputs": [
        {
          "output_type": "execute_result",
          "data": {
            "text/plain": [
              "    clusters ticker\n",
              "14         0    JNJ\n",
              "26         0     VZ\n",
              "22         0     PG\n",
              "19         0    MRK\n",
              "16         0     KO\n",
              "24         1    UNH\n",
              "23         1    TRV\n",
              "21         1    NKE\n",
              "17         1    MCD\n",
              "10         1     HD\n",
              "28         1    WMT\n",
              "11         2    HON\n",
              "2          2    AXP\n",
              "3          2     BA\n",
              "4          2    CAT\n",
              "15         2    JPM\n",
              "8          2    DIS\n",
              "7          2    CVX\n",
              "9          2     GS\n",
              "5          3    CRM\n",
              "0          3   AAPL\n",
              "20         3   MSFT\n",
              "18         4    MMM\n",
              "27         4    WBA\n",
              "13         4   INTC\n",
              "12         4    IBM\n",
              "25         4      V\n",
              "1          4   AMGN\n",
              "6          4   CSCO"
            ],
            "text/html": [
              "\n",
              "  <div id=\"df-5e42984d-c1d2-4140-805a-23a97cd30806\">\n",
              "    <div class=\"colab-df-container\">\n",
              "      <div>\n",
              "<style scoped>\n",
              "    .dataframe tbody tr th:only-of-type {\n",
              "        vertical-align: middle;\n",
              "    }\n",
              "\n",
              "    .dataframe tbody tr th {\n",
              "        vertical-align: top;\n",
              "    }\n",
              "\n",
              "    .dataframe thead th {\n",
              "        text-align: right;\n",
              "    }\n",
              "</style>\n",
              "<table border=\"1\" class=\"dataframe\">\n",
              "  <thead>\n",
              "    <tr style=\"text-align: right;\">\n",
              "      <th></th>\n",
              "      <th>clusters</th>\n",
              "      <th>ticker</th>\n",
              "    </tr>\n",
              "  </thead>\n",
              "  <tbody>\n",
              "    <tr>\n",
              "      <th>14</th>\n",
              "      <td>0</td>\n",
              "      <td>JNJ</td>\n",
              "    </tr>\n",
              "    <tr>\n",
              "      <th>26</th>\n",
              "      <td>0</td>\n",
              "      <td>VZ</td>\n",
              "    </tr>\n",
              "    <tr>\n",
              "      <th>22</th>\n",
              "      <td>0</td>\n",
              "      <td>PG</td>\n",
              "    </tr>\n",
              "    <tr>\n",
              "      <th>19</th>\n",
              "      <td>0</td>\n",
              "      <td>MRK</td>\n",
              "    </tr>\n",
              "    <tr>\n",
              "      <th>16</th>\n",
              "      <td>0</td>\n",
              "      <td>KO</td>\n",
              "    </tr>\n",
              "    <tr>\n",
              "      <th>24</th>\n",
              "      <td>1</td>\n",
              "      <td>UNH</td>\n",
              "    </tr>\n",
              "    <tr>\n",
              "      <th>23</th>\n",
              "      <td>1</td>\n",
              "      <td>TRV</td>\n",
              "    </tr>\n",
              "    <tr>\n",
              "      <th>21</th>\n",
              "      <td>1</td>\n",
              "      <td>NKE</td>\n",
              "    </tr>\n",
              "    <tr>\n",
              "      <th>17</th>\n",
              "      <td>1</td>\n",
              "      <td>MCD</td>\n",
              "    </tr>\n",
              "    <tr>\n",
              "      <th>10</th>\n",
              "      <td>1</td>\n",
              "      <td>HD</td>\n",
              "    </tr>\n",
              "    <tr>\n",
              "      <th>28</th>\n",
              "      <td>1</td>\n",
              "      <td>WMT</td>\n",
              "    </tr>\n",
              "    <tr>\n",
              "      <th>11</th>\n",
              "      <td>2</td>\n",
              "      <td>HON</td>\n",
              "    </tr>\n",
              "    <tr>\n",
              "      <th>2</th>\n",
              "      <td>2</td>\n",
              "      <td>AXP</td>\n",
              "    </tr>\n",
              "    <tr>\n",
              "      <th>3</th>\n",
              "      <td>2</td>\n",
              "      <td>BA</td>\n",
              "    </tr>\n",
              "    <tr>\n",
              "      <th>4</th>\n",
              "      <td>2</td>\n",
              "      <td>CAT</td>\n",
              "    </tr>\n",
              "    <tr>\n",
              "      <th>15</th>\n",
              "      <td>2</td>\n",
              "      <td>JPM</td>\n",
              "    </tr>\n",
              "    <tr>\n",
              "      <th>8</th>\n",
              "      <td>2</td>\n",
              "      <td>DIS</td>\n",
              "    </tr>\n",
              "    <tr>\n",
              "      <th>7</th>\n",
              "      <td>2</td>\n",
              "      <td>CVX</td>\n",
              "    </tr>\n",
              "    <tr>\n",
              "      <th>9</th>\n",
              "      <td>2</td>\n",
              "      <td>GS</td>\n",
              "    </tr>\n",
              "    <tr>\n",
              "      <th>5</th>\n",
              "      <td>3</td>\n",
              "      <td>CRM</td>\n",
              "    </tr>\n",
              "    <tr>\n",
              "      <th>0</th>\n",
              "      <td>3</td>\n",
              "      <td>AAPL</td>\n",
              "    </tr>\n",
              "    <tr>\n",
              "      <th>20</th>\n",
              "      <td>3</td>\n",
              "      <td>MSFT</td>\n",
              "    </tr>\n",
              "    <tr>\n",
              "      <th>18</th>\n",
              "      <td>4</td>\n",
              "      <td>MMM</td>\n",
              "    </tr>\n",
              "    <tr>\n",
              "      <th>27</th>\n",
              "      <td>4</td>\n",
              "      <td>WBA</td>\n",
              "    </tr>\n",
              "    <tr>\n",
              "      <th>13</th>\n",
              "      <td>4</td>\n",
              "      <td>INTC</td>\n",
              "    </tr>\n",
              "    <tr>\n",
              "      <th>12</th>\n",
              "      <td>4</td>\n",
              "      <td>IBM</td>\n",
              "    </tr>\n",
              "    <tr>\n",
              "      <th>25</th>\n",
              "      <td>4</td>\n",
              "      <td>V</td>\n",
              "    </tr>\n",
              "    <tr>\n",
              "      <th>1</th>\n",
              "      <td>4</td>\n",
              "      <td>AMGN</td>\n",
              "    </tr>\n",
              "    <tr>\n",
              "      <th>6</th>\n",
              "      <td>4</td>\n",
              "      <td>CSCO</td>\n",
              "    </tr>\n",
              "  </tbody>\n",
              "</table>\n",
              "</div>\n",
              "      <button class=\"colab-df-convert\" onclick=\"convertToInteractive('df-5e42984d-c1d2-4140-805a-23a97cd30806')\"\n",
              "              title=\"Convert this dataframe to an interactive table.\"\n",
              "              style=\"display:none;\">\n",
              "        \n",
              "  <svg xmlns=\"http://www.w3.org/2000/svg\" height=\"24px\"viewBox=\"0 0 24 24\"\n",
              "       width=\"24px\">\n",
              "    <path d=\"M0 0h24v24H0V0z\" fill=\"none\"/>\n",
              "    <path d=\"M18.56 5.44l.94 2.06.94-2.06 2.06-.94-2.06-.94-.94-2.06-.94 2.06-2.06.94zm-11 1L8.5 8.5l.94-2.06 2.06-.94-2.06-.94L8.5 2.5l-.94 2.06-2.06.94zm10 10l.94 2.06.94-2.06 2.06-.94-2.06-.94-.94-2.06-.94 2.06-2.06.94z\"/><path d=\"M17.41 7.96l-1.37-1.37c-.4-.4-.92-.59-1.43-.59-.52 0-1.04.2-1.43.59L10.3 9.45l-7.72 7.72c-.78.78-.78 2.05 0 2.83L4 21.41c.39.39.9.59 1.41.59.51 0 1.02-.2 1.41-.59l7.78-7.78 2.81-2.81c.8-.78.8-2.07 0-2.86zM5.41 20L4 18.59l7.72-7.72 1.47 1.35L5.41 20z\"/>\n",
              "  </svg>\n",
              "      </button>\n",
              "      \n",
              "  <style>\n",
              "    .colab-df-container {\n",
              "      display:flex;\n",
              "      flex-wrap:wrap;\n",
              "      gap: 12px;\n",
              "    }\n",
              "\n",
              "    .colab-df-convert {\n",
              "      background-color: #E8F0FE;\n",
              "      border: none;\n",
              "      border-radius: 50%;\n",
              "      cursor: pointer;\n",
              "      display: none;\n",
              "      fill: #1967D2;\n",
              "      height: 32px;\n",
              "      padding: 0 0 0 0;\n",
              "      width: 32px;\n",
              "    }\n",
              "\n",
              "    .colab-df-convert:hover {\n",
              "      background-color: #E2EBFA;\n",
              "      box-shadow: 0px 1px 2px rgba(60, 64, 67, 0.3), 0px 1px 3px 1px rgba(60, 64, 67, 0.15);\n",
              "      fill: #174EA6;\n",
              "    }\n",
              "\n",
              "    [theme=dark] .colab-df-convert {\n",
              "      background-color: #3B4455;\n",
              "      fill: #D2E3FC;\n",
              "    }\n",
              "\n",
              "    [theme=dark] .colab-df-convert:hover {\n",
              "      background-color: #434B5C;\n",
              "      box-shadow: 0px 1px 3px 1px rgba(0, 0, 0, 0.15);\n",
              "      filter: drop-shadow(0px 1px 2px rgba(0, 0, 0, 0.3));\n",
              "      fill: #FFFFFF;\n",
              "    }\n",
              "  </style>\n",
              "\n",
              "      <script>\n",
              "        const buttonEl =\n",
              "          document.querySelector('#df-5e42984d-c1d2-4140-805a-23a97cd30806 button.colab-df-convert');\n",
              "        buttonEl.style.display =\n",
              "          google.colab.kernel.accessAllowed ? 'block' : 'none';\n",
              "\n",
              "        async function convertToInteractive(key) {\n",
              "          const element = document.querySelector('#df-5e42984d-c1d2-4140-805a-23a97cd30806');\n",
              "          const dataTable =\n",
              "            await google.colab.kernel.invokeFunction('convertToInteractive',\n",
              "                                                     [key], {});\n",
              "          if (!dataTable) return;\n",
              "\n",
              "          const docLinkHtml = 'Like what you see? Visit the ' +\n",
              "            '<a target=\"_blank\" href=https://colab.research.google.com/notebooks/data_table.ipynb>data table notebook</a>'\n",
              "            + ' to learn more about interactive tables.';\n",
              "          element.innerHTML = '';\n",
              "          dataTable['output_type'] = 'display_data';\n",
              "          await google.colab.output.renderOutput(dataTable, element);\n",
              "          const docLink = document.createElement('div');\n",
              "          docLink.innerHTML = docLinkHtml;\n",
              "          element.appendChild(docLink);\n",
              "        }\n",
              "      </script>\n",
              "    </div>\n",
              "  </div>\n",
              "  "
            ]
          },
          "metadata": {},
          "execution_count": 46
        }
      ]
    },
    {
      "cell_type": "code",
      "source": [
        "plt.figure(figsize=(10, 10))\n",
        "plt.scatter(daily_movements[:, 0], daily_movements[:, 1], c=clusters ,cmap='rainbow')"
      ],
      "metadata": {
        "id": "b2FO1vW3W0C9",
        "colab": {
          "base_uri": "https://localhost:8080/",
          "height": 609
        },
        "outputId": "d4b0abb8-a003-4148-b990-6e8b133b6f97"
      },
      "execution_count": 85,
      "outputs": [
        {
          "output_type": "execute_result",
          "data": {
            "text/plain": [
              "<matplotlib.collections.PathCollection at 0x7ff164bd4a00>"
            ]
          },
          "metadata": {},
          "execution_count": 85
        },
        {
          "output_type": "display_data",
          "data": {
            "text/plain": [
              "<Figure size 720x720 with 1 Axes>"
            ],
            "image/png": "[encoded data removed]"
          },
          "metadata": {
            "needs_background": "light"
          }
        }
      ]
    },
    {
      "cell_type": "code",
      "source": [],
      "metadata": {
        "id": "OI9a23AKxOhv"
      },
      "execution_count": null,
      "outputs": []
    },
    {
      "cell_type": "markdown",
      "source": [
        "**Let's Try other Clustering algoriths** to see which of them fares well. We see that K-Means was sorts of okay-ish algorithm. We will try 2 other alogorithms here.\n",
        "1. Agglomerative Clustering\n",
        "2. Gaussian Clustering \n",
        "\n",
        "And plot the results all together."
      ],
      "metadata": {
        "id": "-VNPLY9QEaNO"
      }
    },
    {
      "cell_type": "code",
      "source": [
        "from sklearn.cluster import AgglomerativeClustering"
      ],
      "metadata": {
        "id": "i3RCL6pnW0FR"
      },
      "execution_count": 47,
      "outputs": []
    },
    {
      "cell_type": "code",
      "source": [
        "hierarchical_cluster = AgglomerativeClustering(n_clusters=5, affinity='euclidean', linkage='ward')\n",
        "labels = hierarchical_cluster.fit_predict(daily_movements)\n",
        "\n",
        "# plt.scatter(x, y, c=labels)\n",
        "# plt.show()"
      ],
      "metadata": {
        "id": "I-2pCT-gW0Ip"
      },
      "execution_count": 63,
      "outputs": []
    },
    {
      "cell_type": "code",
      "source": [
        "labels"
      ],
      "metadata": {
        "id": "R_496F0kW0KR",
        "colab": {
          "base_uri": "https://localhost:8080/"
        },
        "outputId": "22ac2f04-1957-4301-ad1c-82ff91bf7618"
      },
      "execution_count": 49,
      "outputs": [
        {
          "output_type": "execute_result",
          "data": {
            "text/plain": [
              "array([1, 0, 1, 3, 1, 0, 1, 1, 1, 4, 1, 1, 1, 1, 1, 1, 1, 1, 1, 1, 0, 1,\n",
              "       1, 1, 2, 0, 1, 1, 1])"
            ]
          },
          "metadata": {},
          "execution_count": 49
        }
      ]
    },
    {
      "cell_type": "code",
      "source": [
        "results = pd.DataFrame({\n",
        "    \"clusters\": labels,\n",
        "    \"ticker\": list(companies_dow30)\n",
        "}).sort_values(by=[\"clusters\"], axis=0)"
      ],
      "metadata": {
        "id": "lomNWPsFW0Mk"
      },
      "execution_count": 50,
      "outputs": []
    },
    {
      "cell_type": "markdown",
      "source": [],
      "metadata": {
        "id": "zWKFBdvyuKl_"
      }
    },
    {
      "cell_type": "code",
      "source": [
        "plt.figure(figsize=(10, 10))\n",
        "plt.scatter(daily_movements[:, 0], daily_movements[:, 1], c=labels ,cmap='rainbow')"
      ],
      "metadata": {
        "colab": {
          "base_uri": "https://localhost:8080/",
          "height": 609
        },
        "id": "JqbQVlhbuK3F",
        "outputId": "6e8a7aae-f113-415d-b107-0091a40e2e75"
      },
      "execution_count": 66,
      "outputs": [
        {
          "output_type": "execute_result",
          "data": {
            "text/plain": [
              "<matplotlib.collections.PathCollection at 0x7ff166f652e0>"
            ]
          },
          "metadata": {},
          "execution_count": 66
        },
        {
          "output_type": "display_data",
          "data": {
            "text/plain": [
              "<Figure size 720x720 with 1 Axes>"
            ],
            "image/png": "[encoded data removed]"
          },
          "metadata": {
            "needs_background": "light"
          }
        }
      ]
    },
    {
      "cell_type": "code",
      "source": [],
      "metadata": {
        "id": "A9vTT_MjuLA6"
      },
      "execution_count": null,
      "outputs": []
    },
    {
      "cell_type": "code",
      "source": [],
      "metadata": {
        "id": "F_to89XWuLD6"
      },
      "execution_count": null,
      "outputs": []
    },
    {
      "cell_type": "code",
      "source": [
        "results"
      ],
      "metadata": {
        "id": "czYOESJtW0Ow",
        "colab": {
          "base_uri": "https://localhost:8080/",
          "height": 958
        },
        "outputId": "7e65c5ce-efe2-4aef-8a5f-e32bc7846159"
      },
      "execution_count": 51,
      "outputs": [
        {
          "output_type": "execute_result",
          "data": {
            "text/plain": [
              "    clusters ticker\n",
              "1          0   AMGN\n",
              "25         0      V\n",
              "5          0    CRM\n",
              "20         0   MSFT\n",
              "0          1   AAPL\n",
              "26         1     VZ\n",
              "23         1    TRV\n",
              "22         1     PG\n",
              "21         1    NKE\n",
              "19         1    MRK\n",
              "18         1    MMM\n",
              "17         1    MCD\n",
              "16         1     KO\n",
              "15         1    JPM\n",
              "14         1    JNJ\n",
              "13         1   INTC\n",
              "12         1    IBM\n",
              "11         1    HON\n",
              "10         1     HD\n",
              "8          1    DIS\n",
              "7          1    CVX\n",
              "6          1   CSCO\n",
              "4          1    CAT\n",
              "2          1    AXP\n",
              "27         1    WBA\n",
              "28         1    WMT\n",
              "24         2    UNH\n",
              "3          3     BA\n",
              "9          4     GS"
            ],
            "text/html": [
              "\n",
              "  <div id=\"df-ca43cfc0-853c-4428-9e62-83bed94a5996\">\n",
              "    <div class=\"colab-df-container\">\n",
              "      <div>\n",
              "<style scoped>\n",
              "    .dataframe tbody tr th:only-of-type {\n",
              "        vertical-align: middle;\n",
              "    }\n",
              "\n",
              "    .dataframe tbody tr th {\n",
              "        vertical-align: top;\n",
              "    }\n",
              "\n",
              "    .dataframe thead th {\n",
              "        text-align: right;\n",
              "    }\n",
              "</style>\n",
              "<table border=\"1\" class=\"dataframe\">\n",
              "  <thead>\n",
              "    <tr style=\"text-align: right;\">\n",
              "      <th></th>\n",
              "      <th>clusters</th>\n",
              "      <th>ticker</th>\n",
              "    </tr>\n",
              "  </thead>\n",
              "  <tbody>\n",
              "    <tr>\n",
              "      <th>1</th>\n",
              "      <td>0</td>\n",
              "      <td>AMGN</td>\n",
              "    </tr>\n",
              "    <tr>\n",
              "      <th>25</th>\n",
              "      <td>0</td>\n",
              "      <td>V</td>\n",
              "    </tr>\n",
              "    <tr>\n",
              "      <th>5</th>\n",
              "      <td>0</td>\n",
              "      <td>CRM</td>\n",
              "    </tr>\n",
              "    <tr>\n",
              "      <th>20</th>\n",
              "      <td>0</td>\n",
              "      <td>MSFT</td>\n",
              "    </tr>\n",
              "    <tr>\n",
              "      <th>0</th>\n",
              "      <td>1</td>\n",
              "      <td>AAPL</td>\n",
              "    </tr>\n",
              "    <tr>\n",
              "      <th>26</th>\n",
              "      <td>1</td>\n",
              "      <td>VZ</td>\n",
              "    </tr>\n",
              "    <tr>\n",
              "      <th>23</th>\n",
              "      <td>1</td>\n",
              "      <td>TRV</td>\n",
              "    </tr>\n",
              "    <tr>\n",
              "      <th>22</th>\n",
              "      <td>1</td>\n",
              "      <td>PG</td>\n",
              "    </tr>\n",
              "    <tr>\n",
              "      <th>21</th>\n",
              "      <td>1</td>\n",
              "      <td>NKE</td>\n",
              "    </tr>\n",
              "    <tr>\n",
              "      <th>19</th>\n",
              "      <td>1</td>\n",
              "      <td>MRK</td>\n",
              "    </tr>\n",
              "    <tr>\n",
              "      <th>18</th>\n",
              "      <td>1</td>\n",
              "      <td>MMM</td>\n",
              "    </tr>\n",
              "    <tr>\n",
              "      <th>17</th>\n",
              "      <td>1</td>\n",
              "      <td>MCD</td>\n",
              "    </tr>\n",
              "    <tr>\n",
              "      <th>16</th>\n",
              "      <td>1</td>\n",
              "      <td>KO</td>\n",
              "    </tr>\n",
              "    <tr>\n",
              "      <th>15</th>\n",
              "      <td>1</td>\n",
              "      <td>JPM</td>\n",
              "    </tr>\n",
              "    <tr>\n",
              "      <th>14</th>\n",
              "      <td>1</td>\n",
              "      <td>JNJ</td>\n",
              "    </tr>\n",
              "    <tr>\n",
              "      <th>13</th>\n",
              "      <td>1</td>\n",
              "      <td>INTC</td>\n",
              "    </tr>\n",
              "    <tr>\n",
              "      <th>12</th>\n",
              "      <td>1</td>\n",
              "      <td>IBM</td>\n",
              "    </tr>\n",
              "    <tr>\n",
              "      <th>11</th>\n",
              "      <td>1</td>\n",
              "      <td>HON</td>\n",
              "    </tr>\n",
              "    <tr>\n",
              "      <th>10</th>\n",
              "      <td>1</td>\n",
              "      <td>HD</td>\n",
              "    </tr>\n",
              "    <tr>\n",
              "      <th>8</th>\n",
              "      <td>1</td>\n",
              "      <td>DIS</td>\n",
              "    </tr>\n",
              "    <tr>\n",
              "      <th>7</th>\n",
              "      <td>1</td>\n",
              "      <td>CVX</td>\n",
              "    </tr>\n",
              "    <tr>\n",
              "      <th>6</th>\n",
              "      <td>1</td>\n",
              "      <td>CSCO</td>\n",
              "    </tr>\n",
              "    <tr>\n",
              "      <th>4</th>\n",
              "      <td>1</td>\n",
              "      <td>CAT</td>\n",
              "    </tr>\n",
              "    <tr>\n",
              "      <th>2</th>\n",
              "      <td>1</td>\n",
              "      <td>AXP</td>\n",
              "    </tr>\n",
              "    <tr>\n",
              "      <th>27</th>\n",
              "      <td>1</td>\n",
              "      <td>WBA</td>\n",
              "    </tr>\n",
              "    <tr>\n",
              "      <th>28</th>\n",
              "      <td>1</td>\n",
              "      <td>WMT</td>\n",
              "    </tr>\n",
              "    <tr>\n",
              "      <th>24</th>\n",
              "      <td>2</td>\n",
              "      <td>UNH</td>\n",
              "    </tr>\n",
              "    <tr>\n",
              "      <th>3</th>\n",
              "      <td>3</td>\n",
              "      <td>BA</td>\n",
              "    </tr>\n",
              "    <tr>\n",
              "      <th>9</th>\n",
              "      <td>4</td>\n",
              "      <td>GS</td>\n",
              "    </tr>\n",
              "  </tbody>\n",
              "</table>\n",
              "</div>\n",
              "      <button class=\"colab-df-convert\" onclick=\"convertToInteractive('df-ca43cfc0-853c-4428-9e62-83bed94a5996')\"\n",
              "              title=\"Convert this dataframe to an interactive table.\"\n",
              "              style=\"display:none;\">\n",
              "        \n",
              "  <svg xmlns=\"http://www.w3.org/2000/svg\" height=\"24px\"viewBox=\"0 0 24 24\"\n",
              "       width=\"24px\">\n",
              "    <path d=\"M0 0h24v24H0V0z\" fill=\"none\"/>\n",
              "    <path d=\"M18.56 5.44l.94 2.06.94-2.06 2.06-.94-2.06-.94-.94-2.06-.94 2.06-2.06.94zm-11 1L8.5 8.5l.94-2.06 2.06-.94-2.06-.94L8.5 2.5l-.94 2.06-2.06.94zm10 10l.94 2.06.94-2.06 2.06-.94-2.06-.94-.94-2.06-.94 2.06-2.06.94z\"/><path d=\"M17.41 7.96l-1.37-1.37c-.4-.4-.92-.59-1.43-.59-.52 0-1.04.2-1.43.59L10.3 9.45l-7.72 7.72c-.78.78-.78 2.05 0 2.83L4 21.41c.39.39.9.59 1.41.59.51 0 1.02-.2 1.41-.59l7.78-7.78 2.81-2.81c.8-.78.8-2.07 0-2.86zM5.41 20L4 18.59l7.72-7.72 1.47 1.35L5.41 20z\"/>\n",
              "  </svg>\n",
              "      </button>\n",
              "      \n",
              "  <style>\n",
              "    .colab-df-container {\n",
              "      display:flex;\n",
              "      flex-wrap:wrap;\n",
              "      gap: 12px;\n",
              "    }\n",
              "\n",
              "    .colab-df-convert {\n",
              "      background-color: #E8F0FE;\n",
              "      border: none;\n",
              "      border-radius: 50%;\n",
              "      cursor: pointer;\n",
              "      display: none;\n",
              "      fill: #1967D2;\n",
              "      height: 32px;\n",
              "      padding: 0 0 0 0;\n",
              "      width: 32px;\n",
              "    }\n",
              "\n",
              "    .colab-df-convert:hover {\n",
              "      background-color: #E2EBFA;\n",
              "      box-shadow: 0px 1px 2px rgba(60, 64, 67, 0.3), 0px 1px 3px 1px rgba(60, 64, 67, 0.15);\n",
              "      fill: #174EA6;\n",
              "    }\n",
              "\n",
              "    [theme=dark] .colab-df-convert {\n",
              "      background-color: #3B4455;\n",
              "      fill: #D2E3FC;\n",
              "    }\n",
              "\n",
              "    [theme=dark] .colab-df-convert:hover {\n",
              "      background-color: #434B5C;\n",
              "      box-shadow: 0px 1px 3px 1px rgba(0, 0, 0, 0.15);\n",
              "      filter: drop-shadow(0px 1px 2px rgba(0, 0, 0, 0.3));\n",
              "      fill: #FFFFFF;\n",
              "    }\n",
              "  </style>\n",
              "\n",
              "      <script>\n",
              "        const buttonEl =\n",
              "          document.querySelector('#df-ca43cfc0-853c-4428-9e62-83bed94a5996 button.colab-df-convert');\n",
              "        buttonEl.style.display =\n",
              "          google.colab.kernel.accessAllowed ? 'block' : 'none';\n",
              "\n",
              "        async function convertToInteractive(key) {\n",
              "          const element = document.querySelector('#df-ca43cfc0-853c-4428-9e62-83bed94a5996');\n",
              "          const dataTable =\n",
              "            await google.colab.kernel.invokeFunction('convertToInteractive',\n",
              "                                                     [key], {});\n",
              "          if (!dataTable) return;\n",
              "\n",
              "          const docLinkHtml = 'Like what you see? Visit the ' +\n",
              "            '<a target=\"_blank\" href=https://colab.research.google.com/notebooks/data_table.ipynb>data table notebook</a>'\n",
              "            + ' to learn more about interactive tables.';\n",
              "          element.innerHTML = '';\n",
              "          dataTable['output_type'] = 'display_data';\n",
              "          await google.colab.output.renderOutput(dataTable, element);\n",
              "          const docLink = document.createElement('div');\n",
              "          docLink.innerHTML = docLinkHtml;\n",
              "          element.appendChild(docLink);\n",
              "        }\n",
              "      </script>\n",
              "    </div>\n",
              "  </div>\n",
              "  "
            ]
          },
          "metadata": {},
          "execution_count": 51
        }
      ]
    },
    {
      "cell_type": "code",
      "source": [
        "# Trying the Gausian Mixture"
      ],
      "metadata": {
        "id": "2XeQAR_9W0RC"
      },
      "execution_count": 52,
      "outputs": []
    },
    {
      "cell_type": "code",
      "source": [
        "from sklearn.mixture import GaussianMixture"
      ],
      "metadata": {
        "id": "SlYEwV2IW0TY"
      },
      "execution_count": 53,
      "outputs": []
    },
    {
      "cell_type": "code",
      "source": [
        "gmm = GaussianMixture(n_components=5)"
      ],
      "metadata": {
        "id": "KP_XCtbRW0Vx"
      },
      "execution_count": 71,
      "outputs": []
    },
    {
      "cell_type": "code",
      "source": [
        "labels1 = gmm.fit_predict(daily_movements)"
      ],
      "metadata": {
        "id": "DMgOj2ezW0YQ"
      },
      "execution_count": 74,
      "outputs": []
    },
    {
      "cell_type": "code",
      "source": [
        "plt.figure(figsize=(10, 10))\n",
        "plt.scatter(daily_movements[:, 0], daily_movements[:, 1], c=labels1 ,cmap='rainbow')"
      ],
      "metadata": {
        "id": "6fgq2vMMW0ab",
        "colab": {
          "base_uri": "https://localhost:8080/",
          "height": 609
        },
        "outputId": "06104e17-f39e-4269-f58f-70342a94a006"
      },
      "execution_count": 75,
      "outputs": [
        {
          "output_type": "execute_result",
          "data": {
            "text/plain": [
              "<matplotlib.collections.PathCollection at 0x7ff166ece400>"
            ]
          },
          "metadata": {},
          "execution_count": 75
        },
        {
          "output_type": "display_data",
          "data": {
            "text/plain": [
              "<Figure size 720x720 with 1 Axes>"
            ],
            "image/png": "[encoded data removed]"
          },
          "metadata": {
            "needs_background": "light"
          }
        }
      ]
    },
    {
      "cell_type": "code",
      "source": [
        "fig, ax = plt.subplots(1, 3, figsize=(30, 8), sharey=True)\n",
        "\n",
        "ax[0].scatter(daily_movements[:, 0], daily_movements[:, 1], c=clusters ,cmap='rainbow')\n",
        "plt.ylabel('Group of 30 companies clustered in 5')\n",
        "ax[0].set_title(\"K Means\")\n",
        "\n",
        "ax[1].scatter(daily_movements[:, 0], daily_movements[:, 1], c=labels ,cmap='rainbow')\n",
        "ax[1].set_title(\"Agglomeratrive\")\n",
        "\n",
        "ax[2].scatter(daily_movements[:, 0], daily_movements[:, 1], c=labels1 ,cmap='rainbow')\n",
        "ax[2].set_title(\"Gaussian\")\n",
        "\n",
        "plt.legend()\n",
        "\n",
        "plt.show()"
      ],
      "metadata": {
        "id": "ffg_TBJWW0cy",
        "colab": {
          "base_uri": "https://localhost:8080/",
          "height": 516
        },
        "outputId": "889c6fbd-872c-45b4-8362-005a0330ea0a"
      },
      "execution_count": 97,
      "outputs": [
        {
          "output_type": "stream",
          "name": "stderr",
          "text": [
            "WARNING:matplotlib.legend:No handles with labels found to put in legend.\n"
          ]
        },
        {
          "output_type": "display_data",
          "data": {
            "text/plain": [
              "<Figure size 2160x576 with 3 Axes>"
            ],
            "image/png": "[encoded data removed]"
          },
          "metadata": {
            "needs_background": "light"
          }
        }
      ]
    },
    {
      "cell_type": "code",
      "source": [
        "gmm.covariances_"
      ],
      "metadata": {
        "id": "1kalAEVRT-3s",
        "colab": {
          "base_uri": "https://localhost:8080/"
        },
        "outputId": "1d72e408-d6c6-41cf-ec22-df82578028be"
      },
      "execution_count": 98,
      "outputs": [
        {
          "output_type": "execute_result",
          "data": {
            "text/plain": [
              "array([[[ 1.00000000e-06,  7.09974815e-29,  1.30162049e-28, ...,\n",
              "          5.32481111e-29, -5.02898827e-29,  1.18329136e-29],\n",
              "        [ 7.09974815e-29,  1.00000000e-06,  5.20648197e-29, ...,\n",
              "          2.12992444e-29, -2.01159531e-29,  4.73316543e-30],\n",
              "        [ 1.30162049e-28,  5.20648197e-29,  1.00000000e-06, ...,\n",
              "          3.90486148e-29, -3.68792473e-29,  8.67746996e-30],\n",
              "        ...,\n",
              "        [ 5.32481111e-29,  2.12992444e-29,  3.90486148e-29, ...,\n",
              "          1.00000000e-06, -1.50869648e-29,  3.54987407e-30],\n",
              "        [-5.02898827e-29, -2.01159531e-29, -3.68792473e-29, ...,\n",
              "         -1.50869648e-29,  1.00000000e-06, -3.35265885e-30],\n",
              "        [ 1.18329136e-29,  4.73316543e-30,  8.67746996e-30, ...,\n",
              "          3.54987407e-30, -3.35265885e-30,  1.00000000e-06]],\n",
              "\n",
              "       [[ 5.37021700e+00, -2.73257600e+00,  1.55473600e+00, ...,\n",
              "          2.62721160e+00,  2.89912600e-01, -3.85312800e-01],\n",
              "        [-2.73257600e+00,  1.42274567e+00, -5.51201333e-01, ...,\n",
              "         -1.25493240e+00, -1.83362433e-01,  2.24379800e-01],\n",
              "        [ 1.55473600e+00, -5.51201333e-01,  2.23187567e+00, ...,\n",
              "          1.36883040e+00, -1.82270733e-01,  9.87572000e-02],\n",
              "        ...,\n",
              "        [ 2.62721160e+00, -1.25493240e+00,  1.36883040e+00, ...,\n",
              "          1.49290678e+00,  5.09592100e-02, -1.16710880e-01],\n",
              "        [ 2.89912600e-01, -1.83362433e-01, -1.82270733e-01, ...,\n",
              "          5.09592100e-02,  5.54240822e-02, -5.22224411e-02],\n",
              "        [-3.85312800e-01,  2.24379800e-01,  9.87572000e-02, ...,\n",
              "         -1.16710880e-01, -5.22224411e-02,  5.24709622e-02]],\n",
              "\n",
              "       [[ 5.16284724e+00,  3.44889560e-01,  7.75416536e+00, ...,\n",
              "          1.28866742e+00, -8.49850328e-01,  1.71820560e-01],\n",
              "        [ 3.44889560e-01,  9.42808524e+00,  2.73788984e+00, ...,\n",
              "          3.78599882e+00, -1.61929325e+00,  3.28271640e-01],\n",
              "        [ 7.75416536e+00,  2.73788984e+00,  1.69495876e+01, ...,\n",
              "          3.98592594e+00, -1.79613259e+00,  6.27178240e-01],\n",
              "        ...,\n",
              "        [ 1.28866742e+00,  3.78599882e+00,  3.98592594e+00, ...,\n",
              "          2.09568667e+00, -8.62391149e-01,  2.88293216e-01],\n",
              "        [-8.49850328e-01, -1.61929325e+00, -1.79613259e+00, ...,\n",
              "         -8.62391149e-01,  4.04340674e-01, -8.75103520e-02],\n",
              "        [ 1.71820560e-01,  3.28271640e-01,  6.27178240e-01, ...,\n",
              "          2.88293216e-01, -8.75103520e-02,  1.16120040e-01]],\n",
              "\n",
              "       [[ 1.42997432e+01, -1.98528750e+00,  7.36068975e+00, ...,\n",
              "         -9.88862250e-01,  2.53171425e+00, -2.92499025e+00],\n",
              "        [-1.98528750e+00,  2.75626000e-01, -1.02191250e+00, ...,\n",
              "          1.37287500e-01, -3.51487500e-01,  4.06087500e-01],\n",
              "        [ 7.36068975e+00, -1.02191250e+00,  3.78886325e+00, ...,\n",
              "         -5.09009750e-01,  1.30318175e+00, -1.50561775e+00],\n",
              "        ...,\n",
              "        [-9.88862250e-01,  1.37287500e-01, -5.09009750e-01, ...,\n",
              "          6.83832500e-02, -1.75074250e-01,  2.02270250e-01],\n",
              "        [ 2.53171425e+00, -3.51487500e-01,  1.30318175e+00, ...,\n",
              "         -1.75074250e-01,  4.48231250e-01, -5.17858250e-01],\n",
              "        [-2.92499025e+00,  4.06087500e-01, -1.50561775e+00, ...,\n",
              "          2.02270250e-01, -5.17858250e-01,  5.98303250e-01]],\n",
              "\n",
              "       [[ 1.70448082e+00,  3.27678005e-01,  8.77086858e-01, ...,\n",
              "          4.83810748e-02,  8.50163156e-02,  1.31989767e-01],\n",
              "        [ 3.27678005e-01,  8.52070050e-01,  2.90661324e-01, ...,\n",
              "          7.35784520e-02,  5.57282485e-02,  5.89772763e-02],\n",
              "        [ 8.77086858e-01,  2.90661324e-01,  1.10441687e+00, ...,\n",
              "         -4.62244441e-02,  5.74527862e-02,  4.50810495e-02],\n",
              "        ...,\n",
              "        [ 4.83810748e-02,  7.35784520e-02, -4.62244441e-02, ...,\n",
              "          3.70732227e-01, -3.38866195e-02,  9.68870383e-03],\n",
              "        [ 8.50163156e-02,  5.57282485e-02,  5.74527862e-02, ...,\n",
              "         -3.38866195e-02,  6.56408377e-02,  4.70625077e-02],\n",
              "        [ 1.31989767e-01,  5.89772763e-02,  4.50810495e-02, ...,\n",
              "          9.68870383e-03,  4.70625077e-02,  7.20335865e-02]]])"
            ]
          },
          "metadata": {},
          "execution_count": 98
        }
      ]
    },
    {
      "cell_type": "code",
      "source": [
        "gmm.weights_"
      ],
      "metadata": {
        "id": "j45LcMlIT-6g",
        "colab": {
          "base_uri": "https://localhost:8080/"
        },
        "outputId": "dcd4c7b6-e2c6-4135-8655-b038bb0ddd6e"
      },
      "execution_count": 100,
      "outputs": [
        {
          "output_type": "execute_result",
          "data": {
            "text/plain": [
              "array([0.03448276, 0.10344828, 0.17241379, 0.06896552, 0.62068966])"
            ]
          },
          "metadata": {},
          "execution_count": 100
        }
      ]
    },
    {
      "cell_type": "code",
      "source": [
        "gmm.predict_proba()"
      ],
      "metadata": {
        "id": "1LjLdiIAT-8X"
      },
      "execution_count": 46,
      "outputs": []
    },
    {
      "cell_type": "code",
      "source": [],
      "metadata": {
        "id": "irFZnUNMT--0"
      },
      "execution_count": 46,
      "outputs": []
    }
  ]
}